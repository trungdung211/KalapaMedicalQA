{
  "nbformat": 4,
  "nbformat_minor": 0,
  "metadata": {
    "colab": {
      "provenance": []
    },
    "kernelspec": {
      "name": "python3",
      "display_name": "Python 3"
    },
    "language_info": {
      "name": "python"
    }
  },
  "cells": [
    {
      "cell_type": "code",
      "execution_count": 5,
      "metadata": {
        "colab": {
          "base_uri": "https://localhost:8080/"
        },
        "id": "p0MFVhN63sBB",
        "outputId": "0f731d82-3fa8-4247-8e4d-8058bff78efd"
      },
      "outputs": [
        {
          "output_type": "stream",
          "name": "stdout",
          "text": [
            "Drive already mounted at /content/drive; to attempt to forcibly remount, call drive.mount(\"/content/drive\", force_remount=True).\n",
            "/content/drive/MyDrive/MedicalMCQA-dh22\n"
          ]
        }
      ],
      "source": [
        "from google.colab import drive\n",
        "drive.mount('/content/drive')\n",
        "\n",
        "%cd /content/drive/MyDrive/MedicalMCQA-dh22"
      ]
    },
    {
      "cell_type": "markdown",
      "source": [
        "##**1. Process paragraph**"
      ],
      "metadata": {
        "id": "mYA6pDru3VLP"
      }
    },
    {
      "cell_type": "code",
      "source": [
        "# Read data\n",
        "import os\n",
        "import pandas as pd\n",
        "\n",
        "corpus = []\n",
        "file_names = []\n",
        "for file_name in os.listdir('./data/corpus'):\n",
        "    with open(f'./data/corpus/{file_name}', 'r') as f:\n",
        "        doc = f.readlines()\n",
        "    corpus.append(\" \".join(doc))\n",
        "    file_names.append(file_name)\n",
        "\n",
        "test_data = pd.read_csv(\"./data/public_test.csv\")"
      ],
      "metadata": {
        "id": "r57YDgCu3-xy"
      },
      "execution_count": 45,
      "outputs": []
    },
    {
      "cell_type": "code",
      "source": [
        "import re\n",
        "import string\n",
        "\n",
        "def remove_url(text):\n",
        "    return re.sub(r\"http\\S+\", \"\", text)\n",
        "\n",
        "def remove_poor_information_trunk(text):\n",
        "    # remove BV TamAnh quote links\n",
        "    text = re.sub(r\"<blockquote>.*?</blockquote>\", \"\", text)\n",
        "\n",
        "    # remove BV TamAnh advertising portions\n",
        "    text = remove_hospital_ads(text)\n",
        "    return text\n",
        "\n",
        "hospital_token_list = [\n",
        "    \"BVĐK Tâm Anh\",\n",
        "    \"BVĐ K Tâm Anh\",\n",
        "    \"BV Tâm Anh\",\n",
        "    \"tại Tâm Anh\",\n",
        "    \"Tại Tâm Anh\",\n",
        "    \"Bệnh Viện Tâm Anh\",\n",
        "    \"Bệnh Viện Đa Khoa Tâm Anh\",\n",
        "    \"với Tâm Anh\",\n",
        "    \"IVF Tâm Anh\",\n",
        "]\n",
        "hospital_re_list = list(map(lambda token: re.compile(\"{}.*?(  |\\.|\\n|…)\".format(token[::-1].lower()), re.IGNORECASE), hospital_token_list))\n",
        "def remove_hospital_ads(doc):\n",
        "    tail = doc[-2000:][::-1]\n",
        "    start = 0\n",
        "    for p in hospital_re_list:\n",
        "        # res = re.search(p, tail)\n",
        "        iter = re.finditer(p, tail)\n",
        "        res = [m.start(1) for m in iter]\n",
        "        if res:\n",
        "            # index = res.start(1)\n",
        "            index = max(res)\n",
        "            if start < index:\n",
        "                start = index\n",
        "    return doc[:-start] if start > 0 else doc\n",
        "\n",
        "def remove_html_tags(text):\n",
        "    clean = re.compile('<.*?>')\n",
        "    return re.sub(clean, '', text)\n",
        "\n",
        "codes = [\"&#8211\", \"&#038\"]\n",
        "def remove_special_token(text):\n",
        "    for code in codes:\n",
        "        text = text.replace(code, \" \")\n",
        "    return text\n",
        "\n",
        "def remove_punctation(text):\n",
        "    for punctuation in string.punctuation:\n",
        "        text = text.replace(punctuation, ' ')\n",
        "    return text\n",
        "\n",
        "def preprocess_text(text, remove_punc=True, remove_ads=False, is_lower=True):\n",
        "    text = remove_url(text)\n",
        "    if remove_ads:\n",
        "        try:\n",
        "            text = remove_poor_information_trunk(text)\n",
        "        except:\n",
        "            pass\n",
        "\n",
        "    if remove_punc:\n",
        "        text = \" \".join(remove_punctation(remove_special_token(remove_html_tags(text))).split())\n",
        "    else:\n",
        "        text = \" \".join(remove_special_token(remove_html_tags(text)).split())\n",
        "    if is_lower:\n",
        "        return text.lower()\n",
        "    else:\n",
        "        return text"
      ],
      "metadata": {
        "id": "r7U874AS7E-g"
      },
      "execution_count": 68,
      "outputs": []
    },
    {
      "cell_type": "code",
      "source": [
        "# Get title (or title + sub_title (menu))\n",
        "codes = [\"&#8211\", \"&#038\"]\n",
        "def get_titles(corpus):\n",
        "    titles = []\n",
        "    for doc in corpus:\n",
        "        raw = doc.split(\"\\n\")[5]\n",
        "        title = doc.split(\"\\n\")[5].split(\":\")[0].split(\"?\")[0]\n",
        "        for code in codes:\n",
        "            title = title.replace(code, \" \")\n",
        "        title = preprocess_text(title)\n",
        "        titles.append(title)\n",
        "    return titles\n",
        "\n",
        "titles = get_titles(corpus)\n",
        "titles[0]"
      ],
      "metadata": {
        "id": "WJtnqO2k3aIe",
        "colab": {
          "base_uri": "https://localhost:8080/",
          "height": 35
        },
        "outputId": "ae05d3f6-258d-47bd-b704-bae085e62b3d"
      },
      "execution_count": 47,
      "outputs": [
        {
          "output_type": "execute_result",
          "data": {
            "text/plain": [
              "'đột quỵ thiếu máu cục bộ là gì'"
            ],
            "application/vnd.google.colaboratory.intrinsic+json": {
              "type": "string"
            }
          },
          "metadata": {},
          "execution_count": 47
        }
      ]
    },
    {
      "cell_type": "code",
      "source": [
        "def split_doc(doc):\n",
        "    try:\n",
        "        paragraphs = doc.split(\"<h3>Mục lục</h3>\")[1].split(\"<h2>\")\n",
        "    except:\n",
        "        return []\n",
        "    menu = paragraphs[0]\n",
        "    paragraphs = paragraphs[1:]\n",
        "    process_paragraphs = []\n",
        "    for paragraph in paragraphs:\n",
        "        if \"hệ thống bệnh viện đa khoa tâm anh\" in paragraph.lower():\n",
        "            process_paragraph = paragraph.lower().split(\"hệ thống bệnh viện đa khoa tâm anh\")[0]\n",
        "            process_paragraph = paragraph[ : len(process_paragraph)]\n",
        "        else:\n",
        "            process_paragraph = paragraph\n",
        "        process_paragraphs.append(process_paragraph)\n",
        "    return process_paragraphs"
      ],
      "metadata": {
        "id": "ZR5mDCr35nAM"
      },
      "execution_count": 53,
      "outputs": []
    },
    {
      "cell_type": "markdown",
      "source": [
        "**Split Paragraphs**"
      ],
      "metadata": {
        "id": "GlWU-if0HmLh"
      }
    },
    {
      "cell_type": "code",
      "source": [
        "import pandas as pd\n",
        "import traceback\n",
        "\n",
        "rows = []\n",
        "for file_name, title, doc in zip(file_names, titles, corpus):\n",
        "    for index, p in enumerate(split_doc(doc)):\n",
        "        p = preprocess_text(str(p), remove_punc=True, remove_ads=True, is_lower=True)\n",
        "        rows.append([file_name, title, index, p])\n",
        "\n",
        "df = pd.DataFrame(rows, columns=['file_name', 'title', 'p_index', 'passage'])\n",
        "\n",
        "df.to_csv('./data/all_paragraph.csv')"
      ],
      "metadata": {
        "id": "tgMwHF7tImqC"
      },
      "execution_count": 73,
      "outputs": []
    },
    {
      "cell_type": "code",
      "source": [
        "import matplotlib.pyplot as plt\n",
        "plt.hist([len(doc.split()) for doc in df[\"passage\"]], bins=128, range=(0, 1000))\n",
        "plt.show()"
      ],
      "metadata": {
        "colab": {
          "base_uri": "https://localhost:8080/",
          "height": 430
        },
        "id": "zeBntmshJKFl",
        "outputId": "2e562155-2a71-4b67-c134-622ea7be9320"
      },
      "execution_count": 72,
      "outputs": [
        {
          "output_type": "display_data",
          "data": {
            "text/plain": [
              "<Figure size 640x480 with 1 Axes>"
            ],
            "image/png": "[encoded data removed]"
          },
          "metadata": {}
        }
      ]
    },
    {
      "cell_type": "markdown",
      "source": [
        "##**2. QA generation by VertexAI**"
      ],
      "metadata": {
        "id": "QB3B1veQK-qe"
      }
    },
    {
      "cell_type": "code",
      "source": [
        "!pip install google-cloud-aiplatform"
      ],
      "metadata": {
        "id": "bKHNRr8oPsFX"
      },
      "execution_count": null,
      "outputs": []
    },
    {
      "cell_type": "code",
      "source": [
        "from vertexai.preview.language_models import TextGenerationModel\n",
        "from google.colab import auth as google_auth\n",
        "\n",
        "google_auth.authenticate_user(clear_output=True, project_id=\"dungvt22\")"
      ],
      "metadata": {
        "id": "9v-tT86f8hiH"
      },
      "execution_count": 2,
      "outputs": []
    },
    {
      "cell_type": "code",
      "source": [
        "from vertexai.preview.language_models import ChatModel, TextGenerationModel\n",
        "from vertexai.language_models import InputOutputTextPair\n",
        "\n",
        "chat_model = ChatModel.from_pretrained(\"chat-bison@001\")\n",
        "\n",
        "parameters = {\n",
        "    \"temperature\": 0.2,\n",
        "    \"max_output_tokens\": 600,\n",
        "    \"top_p\": 0.95,\n",
        "}\n",
        "\n",
        "def get_question_from_passage(passage, parameters):\n",
        "    context = \"You are an Medical Question-Answering exam editor, you help me generate 5 multiple choices question-answers with correct answers from my given corpus. Each question should have 6 possible choices, question should be as short as possible. The question, answer, corpus are in Vietnamese. You return all the questions in your answer\"\n",
        "    corpus = passage\n",
        "\n",
        "    examples = [\n",
        "        InputOutputTextPair(\n",
        "            input_text=\"User input\",\n",
        "            output_text=\"1. Question ?\\nA. Choice 1\\nB.Choice 2 ...\\nCorrect: A, B ...\"\n",
        "        )\n",
        "    ]\n",
        "    chat = chat_model.start_chat(context=context, examples=examples)\n",
        "\n",
        "    response = chat.send_message(\n",
        "        corpus,\n",
        "        **parameters)\n",
        "\n",
        "    return response.text\n"
      ],
      "metadata": {
        "id": "HOI-GaTp8mAx",
        "outputId": "2bd7e259-ed9d-4aa1-e664-215cc643f140",
        "colab": {
          "base_uri": "https://localhost:8080/"
        }
      },
      "execution_count": 43,
      "outputs": [
        {
          "output_type": "stream",
          "name": "stdout",
          "text": [
            "429 Quota exceeded for aiplatform.googleapis.com/online_prediction_requests_per_base_model with base model: chat-bison. Please submit a quota increase request. https://cloud.google.com/vertex-ai/docs/quotas.\n",
            "429 Quota exceeded for aiplatform.googleapis.com/online_prediction_requests_per_base_model with base model: chat-bison. Please submit a quota increase request. https://cloud.google.com/vertex-ai/docs/quotas.\n",
            "429 Quota exceeded for aiplatform.googleapis.com/online_prediction_requests_per_base_model with base model: chat-bison. Please submit a quota increase request. https://cloud.google.com/vertex-ai/docs/quotas.\n"
          ]
        }
      ]
    },
    {
      "cell_type": "code",
      "source": [
        "import pandas as pd\n",
        "\n",
        "data = pd.read_csv('./data/all_paragraph.csv')\n",
        "\n",
        "data.head()"
      ],
      "metadata": {
        "id": "dYaDs15vDtuk"
      },
      "execution_count": null,
      "outputs": []
    },
    {
      "cell_type": "code",
      "source": [
        "import re\n",
        "\n",
        "def parse_vertex_ai_question(qa):\n",
        "    questions = []\n",
        "    question = \"\"\n",
        "    choices_d = {}\n",
        "    right_answers = []\n",
        "\n",
        "    q_re = r'^\\d+\\.\\s+(\\w.+?)$'\n",
        "    q_choice = r'^([A-F])\\.\\s+(\\w.+)$'\n",
        "    for line in qa.splitlines():\n",
        "        if not line:\n",
        "            continue\n",
        "        line = line.strip()\n",
        "        q = re.match(q_re, line)\n",
        "        if q:\n",
        "            question = q.group(1)\n",
        "            continue\n",
        "        c = re.match(q_choice, line)\n",
        "        if c:\n",
        "            choices_d[c.group(1)] = c.group(2)\n",
        "            continue\n",
        "        if line.startswith(\"Correct: \"):\n",
        "            right_answers = re.split(r',\\s*', line[len(\"Correct: \"):])\n",
        "            questions.append({\"question\": question, \"choices\": choices_d, \"righ_answers\": right_answers})\n",
        "            right_answers = []\n",
        "            question = \"\"\n",
        "            choices_d = {}\n",
        "    return questions\n"
      ],
      "metadata": {
        "id": "UIjT2cqvNwdE"
      },
      "execution_count": 7,
      "outputs": []
    },
    {
      "cell_type": "code",
      "source": [
        "qa = get_question_from_passage(data.iloc[12][\"passage\"], parameters)\n",
        "parse_vertex_ai_question(qa)"
      ],
      "metadata": {
        "id": "-Gf1sIgKU_cD",
        "outputId": "2f4425e6-a2bd-43f8-fd0d-237be242e339",
        "colab": {
          "base_uri": "https://localhost:8080/",
          "height": 740
        }
      },
      "execution_count": 44,
      "outputs": [
        {
          "output_type": "stream",
          "name": "stdout",
          "text": [
            "429 Quota exceeded for aiplatform.googleapis.com/online_prediction_requests_per_base_model with base model: chat-bison. Please submit a quota increase request. https://cloud.google.com/vertex-ai/docs/quotas.\n",
            "429 Quota exceeded for aiplatform.googleapis.com/online_prediction_requests_per_base_model with base model: chat-bison. Please submit a quota increase request. https://cloud.google.com/vertex-ai/docs/quotas.\n",
            "429 Quota exceeded for aiplatform.googleapis.com/online_prediction_requests_per_base_model with base model: chat-bison. Please submit a quota increase request. https://cloud.google.com/vertex-ai/docs/quotas.\n",
            "429 Quota exceeded for aiplatform.googleapis.com/online_prediction_requests_per_base_model with base model: chat-bison. Please submit a quota increase request. https://cloud.google.com/vertex-ai/docs/quotas.\n"
          ]
        },
        {
          "output_type": "error",
          "ename": "ResourceExhausted",
          "evalue": "ignored",
          "traceback": [
            "\u001b[0;31m---------------------------------------------------------------------------\u001b[0m",
            "\u001b[0;31m_InactiveRpcError\u001b[0m                         Traceback (most recent call last)",
            "\u001b[0;32m/usr/local/lib/python3.10/dist-packages/google/api_core/grpc_helpers.py\u001b[0m in \u001b[0;36merror_remapped_callable\u001b[0;34m(*args, **kwargs)\u001b[0m\n\u001b[1;32m     71\u001b[0m         \u001b[0;32mtry\u001b[0m\u001b[0;34m:\u001b[0m\u001b[0;34m\u001b[0m\u001b[0;34m\u001b[0m\u001b[0m\n\u001b[0;32m---> 72\u001b[0;31m             \u001b[0;32mreturn\u001b[0m \u001b[0mcallable_\u001b[0m\u001b[0;34m(\u001b[0m\u001b[0;34m*\u001b[0m\u001b[0margs\u001b[0m\u001b[0;34m,\u001b[0m \u001b[0;34m**\u001b[0m\u001b[0mkwargs\u001b[0m\u001b[0;34m)\u001b[0m\u001b[0;34m\u001b[0m\u001b[0;34m\u001b[0m\u001b[0m\n\u001b[0m\u001b[1;32m     73\u001b[0m         \u001b[0;32mexcept\u001b[0m \u001b[0mgrpc\u001b[0m\u001b[0;34m.\u001b[0m\u001b[0mRpcError\u001b[0m \u001b[0;32mas\u001b[0m \u001b[0mexc\u001b[0m\u001b[0;34m:\u001b[0m\u001b[0;34m\u001b[0m\u001b[0;34m\u001b[0m\u001b[0m\n",
            "\u001b[0;32m/usr/local/lib/python3.10/dist-packages/grpc/_channel.py\u001b[0m in \u001b[0;36m__call__\u001b[0;34m(self, request, timeout, metadata, credentials, wait_for_ready, compression)\u001b[0m\n\u001b[1;32m   1160\u001b[0m         )\n\u001b[0;32m-> 1161\u001b[0;31m         \u001b[0;32mreturn\u001b[0m \u001b[0m_end_unary_response_blocking\u001b[0m\u001b[0;34m(\u001b[0m\u001b[0mstate\u001b[0m\u001b[0;34m,\u001b[0m \u001b[0mcall\u001b[0m\u001b[0;34m,\u001b[0m \u001b[0;32mFalse\u001b[0m\u001b[0;34m,\u001b[0m \u001b[0;32mNone\u001b[0m\u001b[0;34m)\u001b[0m\u001b[0;34m\u001b[0m\u001b[0;34m\u001b[0m\u001b[0m\n\u001b[0m\u001b[1;32m   1162\u001b[0m \u001b[0;34m\u001b[0m\u001b[0m\n",
            "\u001b[0;32m/usr/local/lib/python3.10/dist-packages/grpc/_channel.py\u001b[0m in \u001b[0;36m_end_unary_response_blocking\u001b[0;34m(state, call, with_call, deadline)\u001b[0m\n\u001b[1;32m   1003\u001b[0m     \u001b[0;32melse\u001b[0m\u001b[0;34m:\u001b[0m\u001b[0;34m\u001b[0m\u001b[0;34m\u001b[0m\u001b[0m\n\u001b[0;32m-> 1004\u001b[0;31m         \u001b[0;32mraise\u001b[0m \u001b[0m_InactiveRpcError\u001b[0m\u001b[0;34m(\u001b[0m\u001b[0mstate\u001b[0m\u001b[0;34m)\u001b[0m  \u001b[0;31m# pytype: disable=not-instantiable\u001b[0m\u001b[0;34m\u001b[0m\u001b[0;34m\u001b[0m\u001b[0m\n\u001b[0m\u001b[1;32m   1005\u001b[0m \u001b[0;34m\u001b[0m\u001b[0m\n",
            "\u001b[0;31m_InactiveRpcError\u001b[0m: <_InactiveRpcError of RPC that terminated with:\n\tstatus = StatusCode.RESOURCE_EXHAUSTED\n\tdetails = \"Quota exceeded for aiplatform.googleapis.com/online_prediction_requests_per_base_model with base model: chat-bison. Please submit a quota increase request. https://cloud.google.com/vertex-ai/docs/quotas.\"\n\tdebug_error_string = \"UNKNOWN:Error received from peer ipv4:74.125.141.95:443 {created_time:\"2023-10-28T14:15:33.377518787+00:00\", grpc_status:8, grpc_message:\"Quota exceeded for aiplatform.googleapis.com/online_prediction_requests_per_base_model with base model: chat-bison. Please submit a quota increase request. https://cloud.google.com/vertex-ai/docs/quotas.\"}\"\n>",
            "\nThe above exception was the direct cause of the following exception:\n",
            "\u001b[0;31mResourceExhausted\u001b[0m                         Traceback (most recent call last)",
            "\u001b[0;32m<ipython-input-44-7637923d6875>\u001b[0m in \u001b[0;36m<cell line: 1>\u001b[0;34m()\u001b[0m\n\u001b[0;32m----> 1\u001b[0;31m \u001b[0mqa\u001b[0m \u001b[0;34m=\u001b[0m \u001b[0mget_question_from_passage\u001b[0m\u001b[0;34m(\u001b[0m\u001b[0mdata\u001b[0m\u001b[0;34m.\u001b[0m\u001b[0miloc\u001b[0m\u001b[0;34m[\u001b[0m\u001b[0;36m12\u001b[0m\u001b[0;34m]\u001b[0m\u001b[0;34m[\u001b[0m\u001b[0;34m\"passage\"\u001b[0m\u001b[0;34m]\u001b[0m\u001b[0;34m,\u001b[0m \u001b[0mparameters\u001b[0m\u001b[0;34m)\u001b[0m\u001b[0;34m\u001b[0m\u001b[0;34m\u001b[0m\u001b[0m\n\u001b[0m\u001b[1;32m      2\u001b[0m \u001b[0mparse_vertex_ai_question\u001b[0m\u001b[0;34m(\u001b[0m\u001b[0mqa\u001b[0m\u001b[0;34m)\u001b[0m\u001b[0;34m\u001b[0m\u001b[0;34m\u001b[0m\u001b[0m\n",
            "\u001b[0;32m<ipython-input-43-0b3d0f6df6b8>\u001b[0m in \u001b[0;36mget_question_from_passage\u001b[0;34m(passage, parameters)\u001b[0m\n\u001b[1;32m     22\u001b[0m     \u001b[0mchat\u001b[0m \u001b[0;34m=\u001b[0m \u001b[0mchat_model\u001b[0m\u001b[0;34m.\u001b[0m\u001b[0mstart_chat\u001b[0m\u001b[0;34m(\u001b[0m\u001b[0mcontext\u001b[0m\u001b[0;34m=\u001b[0m\u001b[0mcontext\u001b[0m\u001b[0;34m,\u001b[0m \u001b[0mexamples\u001b[0m\u001b[0;34m=\u001b[0m\u001b[0mexamples\u001b[0m\u001b[0;34m)\u001b[0m\u001b[0;34m\u001b[0m\u001b[0;34m\u001b[0m\u001b[0m\n\u001b[1;32m     23\u001b[0m \u001b[0;34m\u001b[0m\u001b[0m\n\u001b[0;32m---> 24\u001b[0;31m     response = chat.send_message(\n\u001b[0m\u001b[1;32m     25\u001b[0m         \u001b[0mcorpus\u001b[0m\u001b[0;34m,\u001b[0m\u001b[0;34m\u001b[0m\u001b[0;34m\u001b[0m\u001b[0m\n\u001b[1;32m     26\u001b[0m         **parameters)\n",
            "\u001b[0;32m/usr/local/lib/python3.10/dist-packages/vertexai/language_models/_language_models.py\u001b[0m in \u001b[0;36msend_message\u001b[0;34m(self, message, max_output_tokens, temperature, top_k, top_p, stop_sequences, candidate_count)\u001b[0m\n\u001b[1;32m   1781\u001b[0m         )\n\u001b[1;32m   1782\u001b[0m \u001b[0;34m\u001b[0m\u001b[0m\n\u001b[0;32m-> 1783\u001b[0;31m         prediction_response = self._model._endpoint.predict(\n\u001b[0m\u001b[1;32m   1784\u001b[0m             \u001b[0minstances\u001b[0m\u001b[0;34m=\u001b[0m\u001b[0;34m[\u001b[0m\u001b[0mprediction_request\u001b[0m\u001b[0;34m.\u001b[0m\u001b[0minstance\u001b[0m\u001b[0;34m]\u001b[0m\u001b[0;34m,\u001b[0m\u001b[0;34m\u001b[0m\u001b[0;34m\u001b[0m\u001b[0m\n\u001b[1;32m   1785\u001b[0m             \u001b[0mparameters\u001b[0m\u001b[0;34m=\u001b[0m\u001b[0mprediction_request\u001b[0m\u001b[0;34m.\u001b[0m\u001b[0mparameters\u001b[0m\u001b[0;34m,\u001b[0m\u001b[0;34m\u001b[0m\u001b[0;34m\u001b[0m\u001b[0m\n",
            "\u001b[0;32m/usr/local/lib/python3.10/dist-packages/google/cloud/aiplatform/models.py\u001b[0m in \u001b[0;36mpredict\u001b[0;34m(self, instances, parameters, timeout, use_raw_predict)\u001b[0m\n\u001b[1;32m   1594\u001b[0m             )\n\u001b[1;32m   1595\u001b[0m         \u001b[0;32melse\u001b[0m\u001b[0;34m:\u001b[0m\u001b[0;34m\u001b[0m\u001b[0;34m\u001b[0m\u001b[0m\n\u001b[0;32m-> 1596\u001b[0;31m             prediction_response = self._prediction_client.predict(\n\u001b[0m\u001b[1;32m   1597\u001b[0m                 \u001b[0mendpoint\u001b[0m\u001b[0;34m=\u001b[0m\u001b[0mself\u001b[0m\u001b[0;34m.\u001b[0m\u001b[0m_gca_resource\u001b[0m\u001b[0;34m.\u001b[0m\u001b[0mname\u001b[0m\u001b[0;34m,\u001b[0m\u001b[0;34m\u001b[0m\u001b[0;34m\u001b[0m\u001b[0m\n\u001b[1;32m   1598\u001b[0m                 \u001b[0minstances\u001b[0m\u001b[0;34m=\u001b[0m\u001b[0minstances\u001b[0m\u001b[0;34m,\u001b[0m\u001b[0;34m\u001b[0m\u001b[0;34m\u001b[0m\u001b[0m\n",
            "\u001b[0;32m/usr/local/lib/python3.10/dist-packages/google/cloud/aiplatform_v1/services/prediction_service/client.py\u001b[0m in \u001b[0;36mpredict\u001b[0;34m(self, request, endpoint, instances, parameters, retry, timeout, metadata)\u001b[0m\n\u001b[1;32m    602\u001b[0m \u001b[0;34m\u001b[0m\u001b[0m\n\u001b[1;32m    603\u001b[0m         \u001b[0;31m# Send the request.\u001b[0m\u001b[0;34m\u001b[0m\u001b[0;34m\u001b[0m\u001b[0m\n\u001b[0;32m--> 604\u001b[0;31m         response = rpc(\n\u001b[0m\u001b[1;32m    605\u001b[0m             \u001b[0mrequest\u001b[0m\u001b[0;34m,\u001b[0m\u001b[0;34m\u001b[0m\u001b[0;34m\u001b[0m\u001b[0m\n\u001b[1;32m    606\u001b[0m             \u001b[0mretry\u001b[0m\u001b[0;34m=\u001b[0m\u001b[0mretry\u001b[0m\u001b[0;34m,\u001b[0m\u001b[0;34m\u001b[0m\u001b[0;34m\u001b[0m\u001b[0m\n",
            "\u001b[0;32m/usr/local/lib/python3.10/dist-packages/google/api_core/gapic_v1/method.py\u001b[0m in \u001b[0;36m__call__\u001b[0;34m(self, timeout, retry, *args, **kwargs)\u001b[0m\n\u001b[1;32m    111\u001b[0m             \u001b[0mkwargs\u001b[0m\u001b[0;34m[\u001b[0m\u001b[0;34m\"metadata\"\u001b[0m\u001b[0;34m]\u001b[0m \u001b[0;34m=\u001b[0m \u001b[0mmetadata\u001b[0m\u001b[0;34m\u001b[0m\u001b[0;34m\u001b[0m\u001b[0m\n\u001b[1;32m    112\u001b[0m \u001b[0;34m\u001b[0m\u001b[0m\n\u001b[0;32m--> 113\u001b[0;31m         \u001b[0;32mreturn\u001b[0m \u001b[0mwrapped_func\u001b[0m\u001b[0;34m(\u001b[0m\u001b[0;34m*\u001b[0m\u001b[0margs\u001b[0m\u001b[0;34m,\u001b[0m \u001b[0;34m**\u001b[0m\u001b[0mkwargs\u001b[0m\u001b[0;34m)\u001b[0m\u001b[0;34m\u001b[0m\u001b[0;34m\u001b[0m\u001b[0m\n\u001b[0m\u001b[1;32m    114\u001b[0m \u001b[0;34m\u001b[0m\u001b[0m\n\u001b[1;32m    115\u001b[0m \u001b[0;34m\u001b[0m\u001b[0m\n",
            "\u001b[0;32m/usr/local/lib/python3.10/dist-packages/google/api_core/grpc_helpers.py\u001b[0m in \u001b[0;36merror_remapped_callable\u001b[0;34m(*args, **kwargs)\u001b[0m\n\u001b[1;32m     72\u001b[0m             \u001b[0;32mreturn\u001b[0m \u001b[0mcallable_\u001b[0m\u001b[0;34m(\u001b[0m\u001b[0;34m*\u001b[0m\u001b[0margs\u001b[0m\u001b[0;34m,\u001b[0m \u001b[0;34m**\u001b[0m\u001b[0mkwargs\u001b[0m\u001b[0;34m)\u001b[0m\u001b[0;34m\u001b[0m\u001b[0;34m\u001b[0m\u001b[0m\n\u001b[1;32m     73\u001b[0m         \u001b[0;32mexcept\u001b[0m \u001b[0mgrpc\u001b[0m\u001b[0;34m.\u001b[0m\u001b[0mRpcError\u001b[0m \u001b[0;32mas\u001b[0m \u001b[0mexc\u001b[0m\u001b[0;34m:\u001b[0m\u001b[0;34m\u001b[0m\u001b[0;34m\u001b[0m\u001b[0m\n\u001b[0;32m---> 74\u001b[0;31m             \u001b[0;32mraise\u001b[0m \u001b[0mexceptions\u001b[0m\u001b[0;34m.\u001b[0m\u001b[0mfrom_grpc_error\u001b[0m\u001b[0;34m(\u001b[0m\u001b[0mexc\u001b[0m\u001b[0;34m)\u001b[0m \u001b[0;32mfrom\u001b[0m \u001b[0mexc\u001b[0m\u001b[0;34m\u001b[0m\u001b[0;34m\u001b[0m\u001b[0m\n\u001b[0m\u001b[1;32m     75\u001b[0m \u001b[0;34m\u001b[0m\u001b[0m\n\u001b[1;32m     76\u001b[0m     \u001b[0;32mreturn\u001b[0m \u001b[0merror_remapped_callable\u001b[0m\u001b[0;34m\u001b[0m\u001b[0;34m\u001b[0m\u001b[0m\n",
            "\u001b[0;31mResourceExhausted\u001b[0m: 429 Quota exceeded for aiplatform.googleapis.com/online_prediction_requests_per_base_model with base model: chat-bison. Please submit a quota increase request. https://cloud.google.com/vertex-ai/docs/quotas."
          ]
        },
        {
          "output_type": "stream",
          "name": "stdout",
          "text": [
            "429 Quota exceeded for aiplatform.googleapis.com/online_prediction_requests_per_base_model with base model: chat-bison. Please submit a quota increase request. https://cloud.google.com/vertex-ai/docs/quotas.\n",
            "429 Quota exceeded for aiplatform.googleapis.com/online_prediction_requests_per_base_model with base model: chat-bison. Please submit a quota increase request. https://cloud.google.com/vertex-ai/docs/quotas.\n",
            "429 Quota exceeded for aiplatform.googleapis.com/online_prediction_requests_per_base_model with base model: chat-bison. Please submit a quota increase request. https://cloud.google.com/vertex-ai/docs/quotas.\n",
            "429 Quota exceeded for aiplatform.googleapis.com/online_prediction_requests_per_base_model with base model: chat-bison. Please submit a quota increase request. https://cloud.google.com/vertex-ai/docs/quotas.\n",
            "429 Quota exceeded for aiplatform.googleapis.com/online_prediction_requests_per_base_model with base model: chat-bison. Please submit a quota increase request. https://cloud.google.com/vertex-ai/docs/quotas.\n"
          ]
        }
      ]
    },
    {
      "cell_type": "code",
      "source": [
        "data.iloc[8][\"passage\"]"
      ],
      "metadata": {
        "id": "ixlwrwgGnnsk",
        "outputId": "06823a9f-a936-472d-8643-83558431da2a",
        "colab": {
          "base_uri": "https://localhost:8080/",
          "height": 122
        }
      },
      "execution_count": 36,
      "outputs": [
        {
          "output_type": "execute_result",
          "data": {
            "text/plain": [
              "'bệnh giun lươn là gì bệnh giun lươn strongyloides stercoralis được phát hiện đầu tiên ở nam bộ việt nam vào năm 1876 tần suất bệnh thực sự khó xác định vì phần lớn thường là nhiễm trùng tiềm ẩn 2 20 biểu hiện có thể thay đổi từ không triệu chứng đến suy đa cơ quan tử suất của người bệnh nhiễm giun lươn nhập 3viện 16 7 trên người suy giảm miễn dịch có thể gây bệnh lý nhiễm giun lươn lan tỏa gây tử vong bệnh có hai loại hình thái gồm giun lươn ký sinh và giun lươn sống tự do trong môi trường ngoài cơ thể ký chủ ấu trùng xâm nhập qua da vào hệ bạch huyết và hệ tĩnh mạch vào vòng tuần hoàn đến phổi khí quản thực quản dạ dày và phần đầu ruột non định vị tại đó ấu trùng khi đến phổi có thể không vào phế nang mà luân chuyển trong máu và đến các cơ quan khác trong quá trình di chuyển ấu trùng phải trải qua hai lần lột xác để trưởng thành giun trưởng thành thường sống ở tá hỗng tràng những trường hợp nhiễm nặng có thể gặp ở dạ dày môn vị đại tràng đường mật… mỗi giun trưởng thành có thể sống tới 5 năm và tiếp tục chu trình sinh sản trứng giun xuất hiện sau 28 ngày bị nhiễm giun lươn là loại ký sinh trùng duy nhất tìm thấy ấu trùng trong phân không phải trứng trứng giun lươn chỉ được tìm thấy khi tiêu chảy ồ ạt trong trường hợp bệnh nặng trứng không kịp nở ra ấu trùng trong ruột mới theo phân ra ngoài trong điều kiện khí hậu thuận lợi ấu trùng có thể phát triển thành giun lươn tự do sống ở ngoại cảnh trong một vài trường hợp như táo bón lâu ngày giảm nhu động ruột bệnh túi thừa ấu trùng không được thải theo phân ra ngoài thì có thể chui qua vách ruột vào hệ tuần hoàn rồi tiếp tục chu trình ký sinh như trên hệ thần kinh trung ương gan và phổi là nơi thường gặp của chu trình tự nhiễm này chu trình tự nhiễm này đặc biệt trên người suy giảm miễn dịch là nguyên nhân tái nhiễm kéo dài dù đã ra khỏi vùng dịch tễ có thể kéo dài tới 36 năm 2'"
            ],
            "application/vnd.google.colaboratory.intrinsic+json": {
              "type": "string"
            }
          },
          "metadata": {},
          "execution_count": 36
        }
      ]
    },
    {
      "cell_type": "code",
      "source": [
        "from multiprocessing.pool import ThreadPool\n",
        "import codecs\n",
        "import json\n",
        "import tqdm\n",
        "import time\n",
        "import random\n",
        "\n",
        "file = codecs.open(\"lol\", \"w\", \"utf-8\")\n",
        "file.write(u'\\ufeff')\n",
        "file.close()\n",
        "\n",
        "def task(args):\n",
        "    file_name, p_index, passage = args\n",
        "    total = []\n",
        "\n",
        "    qa = get_question_from_passage(passage, parameters)\n",
        "    questions = parse_vertex_ai_question(qa)\n",
        "    total += questions\n",
        "    # time.sleep(2)\n",
        "\n",
        "    return file_name, p_index, total\n",
        "\n",
        "# create a thread pool\n",
        "# pool = ThreadPool(processes=2)\n",
        "\n",
        "items = [(row['file_name'], row['p_index'], row['passage']) for _, row in data.iterrows()]\n",
        "random.shuffle(items)\n",
        "print(\"N items %s\" % len(items))\n",
        "\n",
        "# file = codecs.open(\"./data/raw_generate_qa_by_passage.jsonl\", \"w\", \"utf-8\")\n",
        "results = []\n",
        "# try:\n",
        "#     for file_name, p_index, questions in tqdm.tqdm(pool.imap(task, items), total=len(items)):\n",
        "#         r = {\"file_name\": file_name, \"p_index\": p_index, \"questions\": questions}\n",
        "#         results.append(r)\n",
        "#         # file.write(json.dumps(r, ensure_ascii=False) + '\\n')\n",
        "#         # file.flush()\n",
        "# except Exception as e:\n",
        "#     print(e)\n",
        "\n",
        "for args in tqdm.tqdm(items):\n",
        "    try:\n",
        "        file_name, p_index, questions = task(args)\n",
        "        time.sleep(4)\n",
        "        r = {\"file_name\": file_name, \"p_index\": p_index, \"questions\": questions}\n",
        "        results.append(r)\n",
        "    except Exception as e:\n",
        "        print(\"Error \" + str(e))\n",
        "        with codecs.open(\"./data/raw_generate_qa_by_passage.jsonl\", \"a\", \"utf-8\") as f:\n",
        "            for r in results:\n",
        "                f.write(json.dumps(r, ensure_ascii=False))\n",
        "                f.write('\\n')\n",
        "        results = []\n",
        "        time.sleep(60)\n",
        "        print(\"Retry ...\")\n"
      ],
      "metadata": {
        "id": "sM81CXPUVUzM"
      },
      "execution_count": null,
      "outputs": []
    },
    {
      "cell_type": "code",
      "source": [
        "with codecs.open(\"./data/raw_generate_qa_by_passage.jsonl\", \"r\", \"utf-8\") as f:\n",
        "    for line in f:\n",
        "        print(json.loads(line))"
      ],
      "metadata": {
        "id": "rxfSnWQPYnx7",
        "outputId": "71a9a27f-5b29-4bca-f75a-9654842d6a6f",
        "colab": {
          "base_uri": "https://localhost:8080/"
        }
      },
      "execution_count": 25,
      "outputs": [
        {
          "output_type": "stream",
          "name": "stdout",
          "text": [
            "{'file_name': 'viem-thanh-quan', 'p_index': 4, 'questions': [{'question': 'Bệnh quai bị do virus nào gây ra?', 'choices': {'A': 'Virus quai bị', 'B': 'Virus cúm', 'C': 'Virus sởi', 'D': 'Virus bại liệt', 'E': 'Virus thủy đậu'}, 'righ_answers': ['A']}, {'question': 'Bệnh quai bị có thể lây qua đường nào?', 'choices': {'A': 'Đường hô hấp', 'B': 'Đường ăn uống', 'C': 'Đường tiếp xúc', 'D': 'Đường phân', 'E': 'Đường nước tiểu'}, 'righ_answers': ['A', 'B', 'C', 'E']}, {'question': 'Thời gian ủ bệnh của bệnh quai bị là bao lâu?', 'choices': {'A': '6 ngày', 'B': '12 ngày', 'C': '15 ngày', 'D': '2 tuần', 'E': '3 tuần'}, 'righ_answers': ['A']}, {'question': 'Thời gian lây bệnh của bệnh quai bị là bao lâu?', 'choices': {'A': '6 ngày', 'B': '12 ngày', 'C': '15 ngày', 'D': '2 tuần', 'E': '3 tuần'}, 'righ_answers': ['B', 'C', 'D', 'E']}, {'question': 'Bệnh quai bị có thể gây ra biến chứng gì?', 'choices': {'A': 'Viêm não', 'B': 'Viêm màng não', 'C': 'Viêm nhiều tuyến', 'D': 'Tất cả các phương án trên', 'E': 'Không có biến chứng nào'}, 'righ_answers': ['D']}, {'question': 'Bệnh quai bị có thể gây tử vong không?', 'choices': {'A': 'Có', 'B': 'Không'}, 'righ_answers': ['A']}, {'question': 'Bệnh quai bị có thể phòng ngừa bằng cách nào?', 'choices': {'A': 'Tiêm phòng', 'B': 'Uống thuốc', 'C': 'Ăn uống đầy đủ', 'D': 'Nghỉ ngơi', 'E': 'Không có cách nào phòng ngừa'}, 'righ_answers': ['A']}, {'question': 'Tiêm phòng bệnh quai bị có hiệu quả không?', 'choices': {'A': 'Có', 'B': 'Không'}, 'righ_answers': ['A']}, {'question': 'Tiêm phòng bệnh quai bị cho trẻ em có cần thiết không?', 'choices': {'A': 'Có', 'B': 'Không'}, 'righ_answers': ['A']}, {'question': 'Tiêm phòng bệnh quai bị cho trẻ em có an toàn không?', 'choices': {'A': 'Có', 'B': 'Không'}, 'righ_answers': ['A']}]}\n",
            "{'file_name': 'viem-xoang-tran', 'p_index': 9, 'questions': [{'question': 'Bệnh quai bị do vi khuẩn nào gây ra?', 'choices': {'A': 'Vi khuẩn Streptococcus pneumoniae', 'B': 'Vi khuẩn Haemophilus influenzae', 'C': 'Vi khuẩn Salmonella typhi', 'D': 'Vi khuẩn Mycobacterium tuberculosis', 'E': 'Virus quai bị'}, 'righ_answers': ['E']}, {'question': 'Bệnh quai bị có thể lây truyền qua đường nào?', 'choices': {'A': 'Đường hô hấp', 'B': 'Đường ăn uống', 'C': 'Đường tiếp xúc với nước bọt', 'D': 'Đường phân', 'E': 'Tất cả các đáp án trên'}, 'righ_answers': ['E']}, {'question': 'Thời gian ủ bệnh quai bị là bao lâu?', 'choices': {'A': '6 ngày', 'B': '12 ngày', 'C': '15 ngày', 'D': '20 ngày', 'E': '25 ngày'}, 'righ_answers': ['A']}, {'question': 'Thời gian lây bệnh quai bị là bao lâu?', 'choices': {'A': '6 ngày trước khi có cơn toàn phát sưng tuyến mang tai cho đến 2 tuần sau khi có các triệu chứng bệnh lý', 'B': '6 ngày trước khi có cơn toàn phát sưng tuyến mang tai cho đến 1 tuần sau khi có các triệu chứng bệnh lý', 'C': '6 ngày trước khi có cơn toàn phát sưng tuyến mang tai cho đến 3 tuần sau khi có các triệu chứng bệnh lý', 'D': '6 ngày trước khi có cơn toàn phát sưng tuyến mang tai cho đến 4 tuần sau khi có các triệu chứng bệnh lý', 'E': '6 ngày trước khi có cơn toàn phát sưng tuyến mang tai cho đến 5 tuần sau khi có các triệu chứng bệnh lý'}, 'righ_answers': ['A']}, {'question': 'Bệnh quai bị thường gặp ở đâu?', 'choices': {'A': 'Các khu vực đông dân cư', 'B': 'Các khu vực có khí hậu thường xuyên mát hoặc lạnh', 'C': 'Các khu vực có đời sống chưa được cao', 'D': 'Tất cả các đáp án trên', 'E': 'Không có đáp án nào đúng'}, 'righ_answers': ['D']}, {'question': 'Bệnh quai bị thường gặp vào mùa nào?', 'choices': {'A': 'Mùa xuân', 'B': 'Mùa hè', 'C': 'Mùa thu', 'D': 'Mùa đông', 'E': 'Tất cả các đáp án trên'}, 'righ_answers': ['E']}, {'question': 'Tỷ lệ mắc bệnh quai bị ở Việt Nam là bao nhiêu?', 'choices': {'A': '10-40 trường hợp trên 100.000 dân', 'B': '20-50 trường hợp trên 100.000 dân', 'C': '30-60 trường hợp trên 100.000 dân', 'D': '40-70 trường hợp trên 100.000 dân', 'E': '50-80 trường hợp trên 100.000 dân'}, 'righ_answers': ['A']}, {'question': 'Tỷ lệ tử vong do nhiễm quai bị ở Việt Nam là bao nhiêu?', 'choices': {'A': 'Không vượt quá 1/100.000 dân', 'B': 'Không vượt quá 2/100.000 dân', 'C': 'Không vượt quá 3/100.000 dân', 'D': 'Không vượt quá 4/100.000 dân', 'E': 'Không vượt quá 5/100.000 dân'}, 'righ_answers': ['A']}, {'question': 'Bệnh quai bị có thể gây ra biến chứng gì?', 'choices': {'A': 'Viêm não', 'B': 'Viêm màng não', 'C': 'Viêm nhiều tuyến', 'D': 'Tất cả các đáp án trên', 'E': 'Không có đáp án nào đúng'}, 'righ_answers': ['D']}, {'question': 'Bệnh quai bị có thể phòng ngừa bằng cách nào?', 'choices': {'A': 'Tiêm vắc-xin', 'B': 'Sử dụng thuốc kháng sinh', 'C': 'Sử dụng thuốc kháng virus', 'D': 'Tất cả các đáp án trên', 'E': 'Không có đáp án nào đúng'}, 'righ_answers': ['A']}]}\n",
            "{'file_name': 'tao-bon', 'p_index': 2, 'questions': [{'question': 'Bệnh quai bị do virus gì gây ra?', 'choices': {'A': 'Virus quai bị', 'B': 'Virus cúm', 'C': 'Virus sởi', 'D': 'Virus thủy đậu', 'E': 'Virus sốt xuất huyết'}, 'righ_answers': ['A']}, {'question': 'Bệnh quai bị có thể lây truyền qua đường nào?', 'choices': {'A': 'Đường hô hấp', 'B': 'Đường ăn uống', 'C': 'Đường tiếp xúc với nước bọt', 'D': 'Đường phân', 'E': 'Đường nước tiểu'}, 'righ_answers': ['C']}, {'question': 'Thời gian ủ bệnh quai bị là bao lâu?', 'choices': {'A': '6 ngày', 'B': '12 ngày', 'C': '15 ngày', 'D': '2 tuần', 'E': '3 tuần'}, 'righ_answers': ['A']}, {'question': 'Bệnh quai bị có thể gây ra biến chứng gì?', 'choices': {'A': 'Viêm não', 'B': 'Viêm màng não', 'C': 'Viêm nhiều tuyến', 'D': 'Tất cả các đáp án trên', 'E': 'Không có biến chứng'}, 'righ_answers': ['D']}, {'question': 'Bệnh quai bị có thể điều trị bằng thuốc gì?', 'choices': {'A': 'Thuốc kháng sinh', 'B': 'Thuốc kháng virus', 'C': 'Thuốc giảm đau', 'D': 'Thuốc hạ sốt', 'E': 'Tất cả các đáp án trên'}, 'righ_answers': ['B']}, {'question': 'Bệnh quai bị có thể phòng ngừa bằng cách nào?', 'choices': {'A': 'Tiêm vắc-xin', 'B': 'Uống thuốc', 'C': 'Ăn uống đầy đủ', 'D': 'Nghỉ ngơi', 'E': 'Tất cả các đáp án trên'}, 'righ_answers': ['A']}, {'question': 'Bệnh quai bị có nguy hiểm không?', 'choices': {'A': 'Có', 'B': 'Không', 'C': 'Có thể', 'D': 'Không rõ', 'E': 'Không thể trả lời'}, 'righ_answers': ['A']}, {'question': 'Bệnh quai bị có thể gây tử vong không?', 'choices': {'A': 'Có', 'B': 'Không', 'C': 'Có thể', 'D': 'Không rõ', 'E': 'Không thể trả lời'}, 'righ_answers': ['C']}, {'question': 'Bệnh quai bị có thể lây sang người khác không?', 'choices': {'A': 'Có', 'B': 'Không', 'C': 'Có thể', 'D': 'Không rõ', 'E': 'Không thể trả lời'}, 'righ_answers': ['A']}, {'question': 'Bệnh quai bị có thể lây qua đường nào?', 'choices': {'A': 'Đường hô hấp', 'B': 'Đường ăn uống', 'C': 'Đường tiếp xúc với nước bọt', 'D': 'Đường phân', 'E': 'Đường nước tiểu'}, 'righ_answers': ['C']}]}\n",
            "{'file_name': 'viem-tuyen-nuoc-bot', 'p_index': 2, 'questions': [{'question': 'Bệnh quai bị do virus nào gây ra?', 'choices': {'A': 'Virus quai bị', 'B': 'Virus cúm', 'C': 'Virus sởi', 'D': 'Virus thủy đậu', 'E': 'Virus sốt xuất huyết'}, 'righ_answers': ['A']}, {'question': 'Bệnh quai bị có thể lây truyền qua đường nào?', 'choices': {'A': 'Đường hô hấp', 'B': 'Đường ăn uống', 'C': 'Đường tiếp xúc với nước bọt', 'D': 'Đường phân', 'E': 'Đường nước tiểu'}, 'righ_answers': ['C']}, {'question': 'Thời gian lây bệnh quai bị là bao lâu?', 'choices': {'A': '6 ngày trước khi có cơn toàn phát sưng tuyến mang tai', 'B': '2 tuần sau khi có các triệu chứng bệnh lý', 'C': '12-15 ngày sau khi nhiễm', 'D': '2-3 tuần', 'E': '1-2 tháng'}, 'righ_answers': ['A']}, {'question': 'Bệnh quai bị có thể gây ra biến chứng gì?', 'choices': {'A': 'Viêm não', 'B': 'Viêm màng não', 'C': 'Viêm nhiều tuyến', 'D': 'Cả A và B', 'E': 'Cả A, B và C'}, 'righ_answers': ['E']}, {'question': 'Bệnh quai bị có thể gây tử vong không?', 'choices': {'A': 'Có', 'B': 'Không', 'C': 'Có thể', 'D': 'Không thể', 'E': 'Không rõ'}, 'righ_answers': ['A']}, {'question': 'Bệnh quai bị có thể phòng ngừa được không?', 'choices': {'A': 'Có', 'B': 'Không', 'C': 'Có thể', 'D': 'Không thể', 'E': 'Không rõ'}, 'righ_answers': ['A']}, {'question': 'Bệnh quai bị có thể điều trị được không?', 'choices': {'A': 'Có', 'B': 'Không', 'C': 'Có thể', 'D': 'Không thể', 'E': 'Không rõ'}, 'righ_answers': ['A']}, {'question': 'Bệnh quai bị có thể tự khỏi không?', 'choices': {'A': 'Có', 'B': 'Không', 'C': 'Có thể', 'D': 'Không thể', 'E': 'Không rõ'}, 'righ_answers': ['A']}, {'question': 'Bệnh quai bị có thể tái phát không?', 'choices': {'A': 'Có', 'B': 'Không', 'C': 'Có thể', 'D': 'Không thể', 'E': 'Không rõ'}, 'righ_answers': ['A']}, {'question': 'Bệnh quai bị có thể lây cho trẻ sơ sinh không?', 'choices': {'A': 'Có', 'B': 'Không', 'C': 'Có thể', 'D': 'Không thể', 'E': 'Không rõ'}, 'righ_answers': ['B']}]}\n",
            "{'file_name': 'viem-duong-ho-hap-duoi', 'p_index': 9, 'questions': [{'question': 'Bệnh quai bị do virus nào gây ra?', 'choices': {'A': 'Virus quai bị', 'B': 'Virus cúm', 'C': 'Virus sởi', 'D': 'Virus thủy đậu', 'E': 'Virus bại liệt'}, 'righ_answers': ['A']}, {'question': 'Bệnh quai bị có thể lây truyền qua đường nào?', 'choices': {'A': 'Đường hô hấp', 'B': 'Đường ăn uống', 'C': 'Đường phân', 'D': 'Đường nước tiểu', 'E': 'Cả 4 đường trên'}, 'righ_answers': ['E']}, {'question': 'Bệnh quai bị có thể gây ra biến chứng gì?', 'choices': {'A': 'Viêm não', 'B': 'Viêm màng não', 'C': 'Viêm nhiều tuyến', 'D': 'Cả 3 biến chứng trên', 'E': 'Không có biến chứng nào'}, 'righ_answers': ['D']}, {'question': 'Bệnh quai bị có thể gây tử vong không?', 'choices': {'A': 'Có', 'B': 'Không', 'C': 'Có thể', 'D': 'Không thể biết', 'E': 'Không rõ'}, 'righ_answers': ['A']}, {'question': 'Bệnh quai bị có thể phòng ngừa bằng cách nào?', 'choices': {'A': 'Tiêm vắc xin', 'B': 'Uống thuốc', 'C': 'Dùng kháng sinh', 'D': 'Cả 3 cách trên', 'E': 'Không có cách nào'}, 'righ_answers': ['A']}, {'question': 'Tiêm vắc xin quai bị có hiệu quả không?', 'choices': {'A': 'Có', 'B': 'Không', 'C': 'Có thể', 'D': 'Không thể biết', 'E': 'Không rõ'}, 'righ_answers': ['A']}, {'question': 'Tiêm vắc xin quai bị có tác dụng phụ gì không?', 'choices': {'A': 'Có', 'B': 'Không', 'C': 'Có thể', 'D': 'Không thể biết', 'E': 'Không rõ'}, 'righ_answers': ['C']}, {'question': 'Tiêm vắc xin quai bị có cần tiêm nhắc lại không?', 'choices': {'A': 'Có', 'B': 'Không', 'C': 'Có thể', 'D': 'Không thể biết', 'E': 'Không rõ'}, 'righ_answers': ['A']}, {'question': 'Tiêm vắc xin quai bị có thể tiêm cho trẻ em từ bao nhiêu tuổi trở lên?', 'choices': {'A': 'Từ 1 tuổi trở lên', 'B': 'Từ 2 tuổi trở lên', 'C': 'Từ 3 tuổi trở lên', 'D': 'Từ 4 tuổi trở lên', 'E': 'Từ 5 tuổi trở lên'}, 'righ_answers': ['A']}, {'question': 'Tiêm vắc xin quai bị có thể tiêm cho người lớn không?', 'choices': {'A': 'Có', 'B': 'Không', 'C': 'Có thể', 'D': 'Không thể biết', 'E': 'Không rõ'}, 'righ_answers': ['A']}]}\n",
            "{'file_name': 'viem-tai-giua-u-dich', 'p_index': 7, 'questions': [{'question': 'Bệnh quai bị do virus nào gây ra?', 'choices': {'A': 'Virus quai bị', 'B': 'Virus cúm', 'C': 'Virus sởi', 'D': 'Virus thủy đậu', 'E': 'Virus sốt xuất huyết'}, 'righ_answers': ['A']}, {'question': 'Bệnh quai bị có thể lây truyền qua đường nào?', 'choices': {'A': 'Đường hô hấp', 'B': 'Đường ăn uống', 'C': 'Đường tiếp xúc với nước bọt', 'D': 'Đường phân', 'E': 'Đường nước tiểu'}, 'righ_answers': ['A', 'B', 'C']}, {'question': 'Thời gian lây bệnh quai bị là bao lâu?', 'choices': {'A': '6 ngày trước khi có cơn toàn phát sưng tuyến mang tai', 'B': '2 tuần sau khi có các triệu chứng bệnh lý', 'C': '12-15 ngày sau khi nhiễm', 'D': '2-3 tuần', 'E': '4-5 tuần'}, 'righ_answers': ['A', 'B', 'C']}, {'question': 'Bệnh quai bị thường gặp ở đâu?', 'choices': {'A': 'Các khu vực đông dân cư', 'B': 'Nơi có khí hậu thường xuyên mát hoặc lạnh', 'C': 'Khu vực có đời sống chưa được cao', 'D': 'Tất cả các đáp án trên', 'E': 'Không có đáp án nào đúng'}, 'righ_answers': ['D']}, {'question': 'Tỷ lệ mắc bệnh quai bị ở Việt Nam là bao nhiêu?', 'choices': {'A': 'Dao động từ 10-40 trường hợp trên 100.000 dân', 'B': 'Dao động từ 20-40 trường hợp trên 100.000 dân', 'C': 'Dao động từ 30-50 trường hợp trên 100.000 dân', 'D': 'Dao động từ 40-60 trường hợp trên 100.000 dân', 'E': 'Dao động từ 50-70 trường hợp trên 100.000 dân'}, 'righ_answers': ['A']}, {'question': 'Tỷ lệ tử vong do nhiễm quai bị thường rất thấp, không vượt quá bao nhiêu?', 'choices': {'A': '1/100.000 dân', 'B': '2/100.000 dân', 'C': '3/100.000 dân', 'D': '4/100.000 dân', 'E': '5/100.000 dân'}, 'righ_answers': ['A']}, {'question': 'Bệnh quai bị có thể gây ra biến chứng gì?', 'choices': {'A': 'Viêm não', 'B': 'Viêm màng não', 'C': 'Viêm nhiều tuyến', 'D': 'Tất cả các đáp án trên', 'E': 'Không có đáp án nào đúng'}, 'righ_answers': ['D']}, {'question': 'Bệnh quai bị có thể phòng ngừa bằng cách nào?', 'choices': {'A': 'Tiêm phòng vắc-xin', 'B': 'Sử dụng thuốc kháng sinh', 'C': 'Sử dụng thuốc hạ sốt', 'D': 'Sử dụng thuốc giảm đau', 'E': 'Không có đáp án nào đúng'}, 'righ_answers': ['A']}, {'question': 'Bệnh quai bị có thể điều trị bằng cách nào?', 'choices': {'A': 'Tiêm phòng vắc-xin', 'B': 'Sử dụng thuốc kháng sinh', 'C': 'Sử dụng thuốc hạ sốt', 'D': 'Sử dụng thuốc giảm đau', 'E': 'Không có đáp án nào đúng'}, 'righ_answers': ['C', 'D']}, {'question': 'Bệnh quai bị có thể gây tử vong không?', 'choices': {'A': 'Có', 'B': 'Không', 'C': 'Không thể biết', 'D': 'Không có đáp án nào đúng'}, 'righ_answers': ['A']}]}\n",
            "{'file_name': 'vo-tui-nguc', 'p_index': 4, 'questions': [{'question': 'Bệnh quai bị do virus gì gây ra?', 'choices': {'A': 'Virus quai bị', 'B': 'Virus cúm', 'C': 'Virus sởi', 'D': 'Virus thủy đậu', 'E': 'Virus HIV'}, 'righ_answers': ['A']}, {'question': 'Bệnh quai bị có thể lây truyền qua đường nào?', 'choices': {'A': 'Đường hô hấp', 'B': 'Đường ăn uống', 'C': 'Đường tiếp xúc với nước bọt', 'D': 'Đường phân', 'E': 'Đường nước tiểu'}, 'righ_answers': ['C']}, {'question': 'Thời gian lây bệnh quai bị là bao lâu?', 'choices': {'A': '6 ngày trước khi có cơn toàn phát sưng tuyến mang tai', 'B': '2 tuần sau khi có các triệu chứng bệnh lý', 'C': '12-15 ngày sau khi nhiễm', 'D': '2-3 tuần', 'E': '1-2 tuần'}, 'righ_answers': ['A']}, {'question': 'Bệnh quai bị có thể gây ra biến chứng gì?', 'choices': {'A': 'Viêm não', 'B': 'Viêm màng não', 'C': 'Viêm nhiều tuyến', 'D': 'Tất cả các phương án trên', 'E': 'Không có biến chứng'}, 'righ_answers': ['D']}, {'question': 'Bệnh quai bị thường gặp ở đâu?', 'choices': {'A': 'Các khu vực đông dân cư', 'B': 'Các khu vực có khí hậu thường xuyên mát hoặc lạnh', 'C': 'Các khu vực có đời sống chưa được cao', 'D': 'Tất cả các phương án trên', 'E': 'Không có khu vực nào'}, 'righ_answers': ['D']}, {'question': 'Tỷ lệ mắc bệnh quai bị ở Việt Nam là bao nhiêu?', 'choices': {'A': 'Dao động từ 10-40 trường hợp trên 100.000 dân', 'B': 'Dao động từ 20-40 trường hợp trên 100.000 dân', 'C': 'Dao động từ 30-50 trường hợp trên 100.000 dân', 'D': 'Dao động từ 40-60 trường hợp trên 100.000 dân', 'E': 'Dao động từ 50-70 trường hợp trên 100.000 dân'}, 'righ_answers': ['A']}, {'question': 'Tỷ lệ tử vong do nhiễm quai bị thường là bao nhiêu?', 'choices': {'A': 'Không quá 1/100.000 dân', 'B': 'Không quá 2/100.000 dân', 'C': 'Không quá 3/100.000 dân', 'D': 'Không quá 4/100.000 dân', 'E': 'Không quá 5/100.000 dân'}, 'righ_answers': ['A']}, {'question': 'Bệnh quai bị có thể được điều trị bằng cách nào?', 'choices': {'A': 'Dùng thuốc kháng sinh', 'B': 'Dùng thuốc kháng virus', 'C': 'Dùng thuốc hạ sốt', 'D': 'Dùng thuốc giảm đau', 'E': 'Tất cả các phương án trên'}, 'righ_answers': ['B']}, {'question': 'Bệnh quai bị có thể được phòng ngừa bằng cách nào?', 'choices': {'A': 'Tiêm vắc-xin', 'B': 'Uống thuốc kháng sinh', 'C': 'Uống thuốc kháng virus', 'D': 'Uống thuốc hạ sốt', 'E': 'Tất cả các phương án trên'}, 'righ_answers': ['A']}, {'question': 'Bệnh quai bị có thể gây ra những hậu quả gì?', 'choices': {'A': 'Gây tử vong', 'B': 'Gây biến chứng', 'C': 'Gây đau đớn', 'D': 'Tất cả các phương án trên', 'E': 'Không có hậu quả'}, 'righ_answers': ['D']}]}\n"
          ]
        }
      ]
    }
  ]
}