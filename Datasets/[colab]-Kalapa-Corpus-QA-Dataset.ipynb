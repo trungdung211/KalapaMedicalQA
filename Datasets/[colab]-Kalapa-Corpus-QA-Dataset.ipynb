{
  "nbformat": 4,
  "nbformat_minor": 0,
  "metadata": {
    "colab": {
      "provenance": [],
      "toc_visible": true,
      "include_colab_link": true
    },
    "kernelspec": {
      "name": "python3",
      "display_name": "Python 3"
    },
    "language_info": {
      "name": "python"
    }
  },
  "cells": [
    {
      "cell_type": "markdown",
      "metadata": {
        "id": "view-in-github",
        "colab_type": "text"
      },
      "source": [
        "<a href=\"https://colab.research.google.com/github/trungdung211/KalapaMedicalQA/blob/dataset/Datasets/%5Bcolab%5D-Kalapa-Corpus-QA-Dataset.ipynb\" target=\"_parent\"><img src=\"https://colab.research.google.com/assets/colab-badge.svg\" alt=\"Open In Colab\"/></a>"
      ]
    },
    {
      "cell_type": "code",
      "execution_count": 1,
      "metadata": {
        "colab": {
          "base_uri": "https://localhost:8080/"
        },
        "id": "p0MFVhN63sBB",
        "outputId": "500d7fe6-1ff6-431e-9ba8-d7af6808e548"
      },
      "outputs": [
        {
          "output_type": "stream",
          "name": "stdout",
          "text": [
            "Drive already mounted at /content/drive; to attempt to forcibly remount, call drive.mount(\"/content/drive\", force_remount=True).\n",
            "/content/drive/MyDrive/MedicalMCQA-dh22\n"
          ]
        }
      ],
      "source": [
        "from google.colab import drive\n",
        "drive.mount('/content/drive')\n",
        "\n",
        "%cd /content/drive/MyDrive/MedicalMCQA-dh22"
      ]
    },
    {
      "cell_type": "markdown",
      "source": [
        "##**1. Process paragraph**"
      ],
      "metadata": {
        "id": "mYA6pDru3VLP"
      }
    },
    {
      "cell_type": "code",
      "source": [
        "# Read data\n",
        "import os\n",
        "import pandas as pd\n",
        "\n",
        "corpus = []\n",
        "file_names = []\n",
        "for file_name in os.listdir('./data/corpus'):\n",
        "    with open(f'./data/corpus/{file_name}', 'r') as f:\n",
        "        doc = f.readlines()\n",
        "    corpus.append(\" \".join(doc))\n",
        "    file_names.append(file_name)\n",
        "\n",
        "test_data = pd.read_csv(\"./data/public_test.csv\")"
      ],
      "metadata": {
        "id": "r57YDgCu3-xy"
      },
      "execution_count": 45,
      "outputs": []
    },
    {
      "cell_type": "code",
      "source": [
        "import re\n",
        "import string\n",
        "\n",
        "def remove_url(text):\n",
        "    return re.sub(r\"http\\S+\", \"\", text)\n",
        "\n",
        "def remove_poor_information_trunk(text):\n",
        "    # remove BV TamAnh quote links\n",
        "    text = re.sub(r\"<blockquote>.*?</blockquote>\", \"\", text)\n",
        "\n",
        "    # remove BV TamAnh advertising portions\n",
        "    text = remove_hospital_ads(text)\n",
        "    return text\n",
        "\n",
        "hospital_token_list = [\n",
        "    \"BVĐK Tâm Anh\",\n",
        "    \"BVĐ K Tâm Anh\",\n",
        "    \"BV Tâm Anh\",\n",
        "    \"tại Tâm Anh\",\n",
        "    \"Tại Tâm Anh\",\n",
        "    \"Bệnh Viện Tâm Anh\",\n",
        "    \"Bệnh Viện Đa Khoa Tâm Anh\",\n",
        "    \"với Tâm Anh\",\n",
        "    \"IVF Tâm Anh\",\n",
        "]\n",
        "hospital_re_list = list(map(lambda token: re.compile(\"{}.*?(  |\\.|\\n|…)\".format(token[::-1].lower()), re.IGNORECASE), hospital_token_list))\n",
        "def remove_hospital_ads(doc):\n",
        "    tail = doc[-2000:][::-1]\n",
        "    start = 0\n",
        "    for p in hospital_re_list:\n",
        "        # res = re.search(p, tail)\n",
        "        iter = re.finditer(p, tail)\n",
        "        res = [m.start(1) for m in iter]\n",
        "        if res:\n",
        "            # index = res.start(1)\n",
        "            index = max(res)\n",
        "            if start < index:\n",
        "                start = index\n",
        "    return doc[:-start] if start > 0 else doc\n",
        "\n",
        "def remove_html_tags(text):\n",
        "    clean = re.compile('<.*?>')\n",
        "    return re.sub(clean, '', text)\n",
        "\n",
        "codes = [\"&#8211\", \"&#038\"]\n",
        "def remove_special_token(text):\n",
        "    for code in codes:\n",
        "        text = text.replace(code, \" \")\n",
        "    return text\n",
        "\n",
        "def remove_punctation(text):\n",
        "    for punctuation in string.punctuation:\n",
        "        text = text.replace(punctuation, ' ')\n",
        "    return text\n",
        "\n",
        "def preprocess_text(text, remove_punc=True, remove_ads=False, is_lower=True):\n",
        "    text = remove_url(text)\n",
        "    if remove_ads:\n",
        "        try:\n",
        "            text = remove_poor_information_trunk(text)\n",
        "        except:\n",
        "            pass\n",
        "\n",
        "    if remove_punc:\n",
        "        text = \" \".join(remove_punctation(remove_special_token(remove_html_tags(text))).split())\n",
        "    else:\n",
        "        text = \" \".join(remove_special_token(remove_html_tags(text)).split())\n",
        "    if is_lower:\n",
        "        return text.lower()\n",
        "    else:\n",
        "        return text"
      ],
      "metadata": {
        "id": "r7U874AS7E-g"
      },
      "execution_count": 68,
      "outputs": []
    },
    {
      "cell_type": "code",
      "source": [
        "# Get title (or title + sub_title (menu))\n",
        "codes = [\"&#8211\", \"&#038\"]\n",
        "def get_titles(corpus):\n",
        "    titles = []\n",
        "    for doc in corpus:\n",
        "        raw = doc.split(\"\\n\")[5]\n",
        "        title = doc.split(\"\\n\")[5].split(\":\")[0].split(\"?\")[0]\n",
        "        for code in codes:\n",
        "            title = title.replace(code, \" \")\n",
        "        title = preprocess_text(title)\n",
        "        titles.append(title)\n",
        "    return titles\n",
        "\n",
        "titles = get_titles(corpus)\n",
        "titles[0]"
      ],
      "metadata": {
        "id": "WJtnqO2k3aIe",
        "colab": {
          "base_uri": "https://localhost:8080/",
          "height": 35
        },
        "outputId": "ae05d3f6-258d-47bd-b704-bae085e62b3d"
      },
      "execution_count": 47,
      "outputs": [
        {
          "output_type": "execute_result",
          "data": {
            "text/plain": [
              "'đột quỵ thiếu máu cục bộ là gì'"
            ],
            "application/vnd.google.colaboratory.intrinsic+json": {
              "type": "string"
            }
          },
          "metadata": {},
          "execution_count": 47
        }
      ]
    },
    {
      "cell_type": "code",
      "source": [
        "def split_doc(doc):\n",
        "    try:\n",
        "        paragraphs = doc.split(\"<h3>Mục lục</h3>\")[1].split(\"<h2>\")\n",
        "    except:\n",
        "        return []\n",
        "    menu = paragraphs[0]\n",
        "    paragraphs = paragraphs[1:]\n",
        "    process_paragraphs = []\n",
        "    for paragraph in paragraphs:\n",
        "        if \"hệ thống bệnh viện đa khoa tâm anh\" in paragraph.lower():\n",
        "            process_paragraph = paragraph.lower().split(\"hệ thống bệnh viện đa khoa tâm anh\")[0]\n",
        "            process_paragraph = paragraph[ : len(process_paragraph)]\n",
        "        else:\n",
        "            process_paragraph = paragraph\n",
        "        process_paragraphs.append(process_paragraph)\n",
        "    return process_paragraphs"
      ],
      "metadata": {
        "id": "ZR5mDCr35nAM"
      },
      "execution_count": 53,
      "outputs": []
    },
    {
      "cell_type": "markdown",
      "source": [
        "**Split Paragraphs**"
      ],
      "metadata": {
        "id": "GlWU-if0HmLh"
      }
    },
    {
      "cell_type": "code",
      "source": [
        "import pandas as pd\n",
        "import traceback\n",
        "\n",
        "rows = []\n",
        "for file_name, title, doc in zip(file_names, titles, corpus):\n",
        "    for index, p in enumerate(split_doc(doc)):\n",
        "        p = preprocess_text(str(p), remove_punc=True, remove_ads=True, is_lower=True)\n",
        "        rows.append([file_name, title, index, p])\n",
        "\n",
        "df = pd.DataFrame(rows, columns=['file_name', 'title', 'p_index', 'passage'])\n",
        "\n",
        "df.to_csv('./data/all_paragraph.csv')"
      ],
      "metadata": {
        "id": "tgMwHF7tImqC"
      },
      "execution_count": 73,
      "outputs": []
    },
    {
      "cell_type": "code",
      "source": [
        "import matplotlib.pyplot as plt\n",
        "plt.hist([len(doc.split()) for doc in df[\"passage\"]], bins=128, range=(0, 1000))\n",
        "plt.show()"
      ],
      "metadata": {
        "colab": {
          "base_uri": "https://localhost:8080/",
          "height": 430
        },
        "id": "zeBntmshJKFl",
        "outputId": "2e562155-2a71-4b67-c134-622ea7be9320"
      },
      "execution_count": 72,
      "outputs": [
        {
          "output_type": "display_data",
          "data": {
            "text/plain": [
              "<Figure size 640x480 with 1 Axes>"
            ],
            "image/png": "[encoded data removed]"
          },
          "metadata": {}
        }
      ]
    },
    {
      "cell_type": "markdown",
      "source": [
        "##**2. QA generation by VertexAI**"
      ],
      "metadata": {
        "id": "QB3B1veQK-qe"
      }
    },
    {
      "cell_type": "code",
      "source": [
        "!pip install google-cloud-aiplatform"
      ],
      "metadata": {
        "id": "bKHNRr8oPsFX"
      },
      "execution_count": null,
      "outputs": []
    },
    {
      "cell_type": "code",
      "source": [
        "from vertexai.preview.language_models import TextGenerationModel\n",
        "from google.colab import auth as google_auth\n",
        "\n",
        "google_auth.authenticate_user(clear_output=True, project_id=\"dungvt22\")"
      ],
      "metadata": {
        "id": "9v-tT86f8hiH"
      },
      "execution_count": 2,
      "outputs": []
    },
    {
      "cell_type": "code",
      "source": [
        "from vertexai.preview.language_models import ChatModel, TextGenerationModel\n",
        "from vertexai.language_models import InputOutputTextPair\n",
        "\n",
        "chat_model = ChatModel.from_pretrained(\"chat-bison@001\")\n",
        "\n",
        "parameters = {\n",
        "    \"temperature\": 0.2,\n",
        "    \"max_output_tokens\": 600,\n",
        "    \"top_p\": 0.95,\n",
        "}\n",
        "\n",
        "def get_question_from_passage(passage, parameters):\n",
        "    context = \"You are an Medical Question-Answering exam editor, you help me generate 5 multiple choices question-answers with correct answers from my given corpus. Each question should have 6 possible choices, question should be as short as possible. The question, answer, corpus are in Vietnamese. You return all the questions in your answer\"\n",
        "    corpus = passage\n",
        "\n",
        "    examples = [\n",
        "        InputOutputTextPair(\n",
        "            input_text=\"User input\",\n",
        "            output_text=\"1. Question ?\\nA. Choice 1\\nB.Choice 2 ...\\nCorrect: A, B ...\"\n",
        "        )\n",
        "    ]\n",
        "    chat = chat_model.start_chat(context=context, examples=examples)\n",
        "\n",
        "    response = chat.send_message(\n",
        "        corpus,\n",
        "        **parameters)\n",
        "\n",
        "    return response.text\n"
      ],
      "metadata": {
        "id": "HOI-GaTp8mAx"
      },
      "execution_count": 3,
      "outputs": []
    },
    {
      "cell_type": "code",
      "source": [
        "import pandas as pd\n",
        "\n",
        "data = pd.read_csv('./data/all_paragraph.csv')\n",
        "\n",
        "data.head()"
      ],
      "metadata": {
        "colab": {
          "base_uri": "https://localhost:8080/",
          "height": 206
        },
        "id": "dYaDs15vDtuk",
        "outputId": "4181b15a-4a0f-416d-fc85-12838a31f2a7"
      },
      "execution_count": 4,
      "outputs": [
        {
          "output_type": "execute_result",
          "data": {
            "text/plain": [
              "   Unnamed: 0                 file_name                           title  \\\n",
              "0           0  dot-quy-thieu-mau-cuc-bo  đột quỵ thiếu máu cục bộ là gì   \n",
              "1           1  dot-quy-thieu-mau-cuc-bo  đột quỵ thiếu máu cục bộ là gì   \n",
              "2           2  dot-quy-thieu-mau-cuc-bo  đột quỵ thiếu máu cục bộ là gì   \n",
              "3           3  dot-quy-thieu-mau-cuc-bo  đột quỵ thiếu máu cục bộ là gì   \n",
              "4           4  dot-quy-thieu-mau-cuc-bo  đột quỵ thiếu máu cục bộ là gì   \n",
              "\n",
              "   p_index                                            passage  \n",
              "0        0  đột quỵ thiếu máu cục bộ là gì đột quỵ thiếu m...  \n",
              "1        1  các loại đột quỵ do thiếu máu cục bộ đột quỵ t...  \n",
              "2        2  nguyên nhân đột quỵ do thiếu máu cục bộ việc x...  \n",
              "3        3  triệu chứng của đột quỵ thiếu máu cục bộ các t...  \n",
              "4        4  biến chứng của đột quỵ do thiếu máu cục bộ đột...  "
            ],
            "text/html": [
              "\n",
              "  <div id=\"df-37f8e2e0-de2c-42ad-9dcd-baa0f48ac3db\" class=\"colab-df-container\">\n",
              "    <div>\n",
              "<style scoped>\n",
              "    .dataframe tbody tr th:only-of-type {\n",
              "        vertical-align: middle;\n",
              "    }\n",
              "\n",
              "    .dataframe tbody tr th {\n",
              "        vertical-align: top;\n",
              "    }\n",
              "\n",
              "    .dataframe thead th {\n",
              "        text-align: right;\n",
              "    }\n",
              "</style>\n",
              "<table border=\"1\" class=\"dataframe\">\n",
              "  <thead>\n",
              "    <tr style=\"text-align: right;\">\n",
              "      <th></th>\n",
              "      <th>Unnamed: 0</th>\n",
              "      <th>file_name</th>\n",
              "      <th>title</th>\n",
              "      <th>p_index</th>\n",
              "      <th>passage</th>\n",
              "    </tr>\n",
              "  </thead>\n",
              "  <tbody>\n",
              "    <tr>\n",
              "      <th>0</th>\n",
              "      <td>0</td>\n",
              "      <td>dot-quy-thieu-mau-cuc-bo</td>\n",
              "      <td>đột quỵ thiếu máu cục bộ là gì</td>\n",
              "      <td>0</td>\n",
              "      <td>đột quỵ thiếu máu cục bộ là gì đột quỵ thiếu m...</td>\n",
              "    </tr>\n",
              "    <tr>\n",
              "      <th>1</th>\n",
              "      <td>1</td>\n",
              "      <td>dot-quy-thieu-mau-cuc-bo</td>\n",
              "      <td>đột quỵ thiếu máu cục bộ là gì</td>\n",
              "      <td>1</td>\n",
              "      <td>các loại đột quỵ do thiếu máu cục bộ đột quỵ t...</td>\n",
              "    </tr>\n",
              "    <tr>\n",
              "      <th>2</th>\n",
              "      <td>2</td>\n",
              "      <td>dot-quy-thieu-mau-cuc-bo</td>\n",
              "      <td>đột quỵ thiếu máu cục bộ là gì</td>\n",
              "      <td>2</td>\n",
              "      <td>nguyên nhân đột quỵ do thiếu máu cục bộ việc x...</td>\n",
              "    </tr>\n",
              "    <tr>\n",
              "      <th>3</th>\n",
              "      <td>3</td>\n",
              "      <td>dot-quy-thieu-mau-cuc-bo</td>\n",
              "      <td>đột quỵ thiếu máu cục bộ là gì</td>\n",
              "      <td>3</td>\n",
              "      <td>triệu chứng của đột quỵ thiếu máu cục bộ các t...</td>\n",
              "    </tr>\n",
              "    <tr>\n",
              "      <th>4</th>\n",
              "      <td>4</td>\n",
              "      <td>dot-quy-thieu-mau-cuc-bo</td>\n",
              "      <td>đột quỵ thiếu máu cục bộ là gì</td>\n",
              "      <td>4</td>\n",
              "      <td>biến chứng của đột quỵ do thiếu máu cục bộ đột...</td>\n",
              "    </tr>\n",
              "  </tbody>\n",
              "</table>\n",
              "</div>\n",
              "    <div class=\"colab-df-buttons\">\n",
              "\n",
              "  <div class=\"colab-df-container\">\n",
              "    <button class=\"colab-df-convert\" onclick=\"convertToInteractive('df-37f8e2e0-de2c-42ad-9dcd-baa0f48ac3db')\"\n",
              "            title=\"Convert this dataframe to an interactive table.\"\n",
              "            style=\"display:none;\">\n",
              "\n",
              "  <svg xmlns=\"http://www.w3.org/2000/svg\" height=\"24px\" viewBox=\"0 -960 960 960\">\n",
              "    <path d=\"M120-120v-720h720v720H120Zm60-500h600v-160H180v160Zm220 220h160v-160H400v160Zm0 220h160v-160H400v160ZM180-400h160v-160H180v160Zm440 0h160v-160H620v160ZM180-180h160v-160H180v160Zm440 0h160v-160H620v160Z\"/>\n",
              "  </svg>\n",
              "    </button>\n",
              "\n",
              "  <style>\n",
              "    .colab-df-container {\n",
              "      display:flex;\n",
              "      gap: 12px;\n",
              "    }\n",
              "\n",
              "    .colab-df-convert {\n",
              "      background-color: #E8F0FE;\n",
              "      border: none;\n",
              "      border-radius: 50%;\n",
              "      cursor: pointer;\n",
              "      display: none;\n",
              "      fill: #1967D2;\n",
              "      height: 32px;\n",
              "      padding: 0 0 0 0;\n",
              "      width: 32px;\n",
              "    }\n",
              "\n",
              "    .colab-df-convert:hover {\n",
              "      background-color: #E2EBFA;\n",
              "      box-shadow: 0px 1px 2px rgba(60, 64, 67, 0.3), 0px 1px 3px 1px rgba(60, 64, 67, 0.15);\n",
              "      fill: #174EA6;\n",
              "    }\n",
              "\n",
              "    .colab-df-buttons div {\n",
              "      margin-bottom: 4px;\n",
              "    }\n",
              "\n",
              "    [theme=dark] .colab-df-convert {\n",
              "      background-color: #3B4455;\n",
              "      fill: #D2E3FC;\n",
              "    }\n",
              "\n",
              "    [theme=dark] .colab-df-convert:hover {\n",
              "      background-color: #434B5C;\n",
              "      box-shadow: 0px 1px 3px 1px rgba(0, 0, 0, 0.15);\n",
              "      filter: drop-shadow(0px 1px 2px rgba(0, 0, 0, 0.3));\n",
              "      fill: #FFFFFF;\n",
              "    }\n",
              "  </style>\n",
              "\n",
              "    <script>\n",
              "      const buttonEl =\n",
              "        document.querySelector('#df-37f8e2e0-de2c-42ad-9dcd-baa0f48ac3db button.colab-df-convert');\n",
              "      buttonEl.style.display =\n",
              "        google.colab.kernel.accessAllowed ? 'block' : 'none';\n",
              "\n",
              "      async function convertToInteractive(key) {\n",
              "        const element = document.querySelector('#df-37f8e2e0-de2c-42ad-9dcd-baa0f48ac3db');\n",
              "        const dataTable =\n",
              "          await google.colab.kernel.invokeFunction('convertToInteractive',\n",
              "                                                    [key], {});\n",
              "        if (!dataTable) return;\n",
              "\n",
              "        const docLinkHtml = 'Like what you see? Visit the ' +\n",
              "          '<a target=\"_blank\" href=https://colab.research.google.com/notebooks/data_table.ipynb>data table notebook</a>'\n",
              "          + ' to learn more about interactive tables.';\n",
              "        element.innerHTML = '';\n",
              "        dataTable['output_type'] = 'display_data';\n",
              "        await google.colab.output.renderOutput(dataTable, element);\n",
              "        const docLink = document.createElement('div');\n",
              "        docLink.innerHTML = docLinkHtml;\n",
              "        element.appendChild(docLink);\n",
              "      }\n",
              "    </script>\n",
              "  </div>\n",
              "\n",
              "\n",
              "<div id=\"df-64638a25-8d98-44e9-8e99-261d98ccad6c\">\n",
              "  <button class=\"colab-df-quickchart\" onclick=\"quickchart('df-64638a25-8d98-44e9-8e99-261d98ccad6c')\"\n",
              "            title=\"Suggest charts.\"\n",
              "            style=\"display:none;\">\n",
              "\n",
              "<svg xmlns=\"http://www.w3.org/2000/svg\" height=\"24px\"viewBox=\"0 0 24 24\"\n",
              "     width=\"24px\">\n",
              "    <g>\n",
              "        <path d=\"M19 3H5c-1.1 0-2 .9-2 2v14c0 1.1.9 2 2 2h14c1.1 0 2-.9 2-2V5c0-1.1-.9-2-2-2zM9 17H7v-7h2v7zm4 0h-2V7h2v10zm4 0h-2v-4h2v4z\"/>\n",
              "    </g>\n",
              "</svg>\n",
              "  </button>\n",
              "\n",
              "<style>\n",
              "  .colab-df-quickchart {\n",
              "      --bg-color: #E8F0FE;\n",
              "      --fill-color: #1967D2;\n",
              "      --hover-bg-color: #E2EBFA;\n",
              "      --hover-fill-color: #174EA6;\n",
              "      --disabled-fill-color: #AAA;\n",
              "      --disabled-bg-color: #DDD;\n",
              "  }\n",
              "\n",
              "  [theme=dark] .colab-df-quickchart {\n",
              "      --bg-color: #3B4455;\n",
              "      --fill-color: #D2E3FC;\n",
              "      --hover-bg-color: #434B5C;\n",
              "      --hover-fill-color: #FFFFFF;\n",
              "      --disabled-bg-color: #3B4455;\n",
              "      --disabled-fill-color: #666;\n",
              "  }\n",
              "\n",
              "  .colab-df-quickchart {\n",
              "    background-color: var(--bg-color);\n",
              "    border: none;\n",
              "    border-radius: 50%;\n",
              "    cursor: pointer;\n",
              "    display: none;\n",
              "    fill: var(--fill-color);\n",
              "    height: 32px;\n",
              "    padding: 0;\n",
              "    width: 32px;\n",
              "  }\n",
              "\n",
              "  .colab-df-quickchart:hover {\n",
              "    background-color: var(--hover-bg-color);\n",
              "    box-shadow: 0 1px 2px rgba(60, 64, 67, 0.3), 0 1px 3px 1px rgba(60, 64, 67, 0.15);\n",
              "    fill: var(--button-hover-fill-color);\n",
              "  }\n",
              "\n",
              "  .colab-df-quickchart-complete:disabled,\n",
              "  .colab-df-quickchart-complete:disabled:hover {\n",
              "    background-color: var(--disabled-bg-color);\n",
              "    fill: var(--disabled-fill-color);\n",
              "    box-shadow: none;\n",
              "  }\n",
              "\n",
              "  .colab-df-spinner {\n",
              "    border: 2px solid var(--fill-color);\n",
              "    border-color: transparent;\n",
              "    border-bottom-color: var(--fill-color);\n",
              "    animation:\n",
              "      spin 1s steps(1) infinite;\n",
              "  }\n",
              "\n",
              "  @keyframes spin {\n",
              "    0% {\n",
              "      border-color: transparent;\n",
              "      border-bottom-color: var(--fill-color);\n",
              "      border-left-color: var(--fill-color);\n",
              "    }\n",
              "    20% {\n",
              "      border-color: transparent;\n",
              "      border-left-color: var(--fill-color);\n",
              "      border-top-color: var(--fill-color);\n",
              "    }\n",
              "    30% {\n",
              "      border-color: transparent;\n",
              "      border-left-color: var(--fill-color);\n",
              "      border-top-color: var(--fill-color);\n",
              "      border-right-color: var(--fill-color);\n",
              "    }\n",
              "    40% {\n",
              "      border-color: transparent;\n",
              "      border-right-color: var(--fill-color);\n",
              "      border-top-color: var(--fill-color);\n",
              "    }\n",
              "    60% {\n",
              "      border-color: transparent;\n",
              "      border-right-color: var(--fill-color);\n",
              "    }\n",
              "    80% {\n",
              "      border-color: transparent;\n",
              "      border-right-color: var(--fill-color);\n",
              "      border-bottom-color: var(--fill-color);\n",
              "    }\n",
              "    90% {\n",
              "      border-color: transparent;\n",
              "      border-bottom-color: var(--fill-color);\n",
              "    }\n",
              "  }\n",
              "</style>\n",
              "\n",
              "  <script>\n",
              "    async function quickchart(key) {\n",
              "      const quickchartButtonEl =\n",
              "        document.querySelector('#' + key + ' button');\n",
              "      quickchartButtonEl.disabled = true;  // To prevent multiple clicks.\n",
              "      quickchartButtonEl.classList.add('colab-df-spinner');\n",
              "      try {\n",
              "        const charts = await google.colab.kernel.invokeFunction(\n",
              "            'suggestCharts', [key], {});\n",
              "      } catch (error) {\n",
              "        console.error('Error during call to suggestCharts:', error);\n",
              "      }\n",
              "      quickchartButtonEl.classList.remove('colab-df-spinner');\n",
              "      quickchartButtonEl.classList.add('colab-df-quickchart-complete');\n",
              "    }\n",
              "    (() => {\n",
              "      let quickchartButtonEl =\n",
              "        document.querySelector('#df-64638a25-8d98-44e9-8e99-261d98ccad6c button');\n",
              "      quickchartButtonEl.style.display =\n",
              "        google.colab.kernel.accessAllowed ? 'block' : 'none';\n",
              "    })();\n",
              "  </script>\n",
              "</div>\n",
              "    </div>\n",
              "  </div>\n"
            ]
          },
          "metadata": {},
          "execution_count": 4
        }
      ]
    },
    {
      "cell_type": "code",
      "source": [
        "import re\n",
        "\n",
        "def parse_vertex_ai_question(qa):\n",
        "    questions = []\n",
        "    question = \"\"\n",
        "    choices_d = {}\n",
        "    right_answers = []\n",
        "\n",
        "    q_re = r'^\\d+\\.\\s+(\\w.+?)$'\n",
        "    q_choice = r'^([A-F])\\.\\s+(\\w.+)$'\n",
        "    for line in qa.splitlines():\n",
        "        if not line:\n",
        "            continue\n",
        "        line = line.strip()\n",
        "        q = re.match(q_re, line)\n",
        "        if q:\n",
        "            question = q.group(1)\n",
        "            continue\n",
        "        c = re.match(q_choice, line)\n",
        "        if c:\n",
        "            choices_d[c.group(1)] = c.group(2)\n",
        "            continue\n",
        "        if line.startswith(\"Correct: \"):\n",
        "            right_answers = re.split(r',\\s*', line[len(\"Correct: \"):])\n",
        "            questions.append({\"question\": question, \"choices\": choices_d, \"righ_answers\": right_answers})\n",
        "            right_answers = []\n",
        "            question = \"\"\n",
        "            choices_d = {}\n",
        "    return questions\n"
      ],
      "metadata": {
        "id": "UIjT2cqvNwdE"
      },
      "execution_count": 5,
      "outputs": []
    },
    {
      "cell_type": "code",
      "source": [
        "qa = get_question_from_passage(data.iloc[3][\"passage\"], parameters)\n",
        "parse_vertex_ai_question(qa)"
      ],
      "metadata": {
        "id": "-Gf1sIgKU_cD"
      },
      "execution_count": null,
      "outputs": []
    },
    {
      "cell_type": "code",
      "source": [
        "data.iloc[8][\"passage\"]"
      ],
      "metadata": {
        "colab": {
          "base_uri": "https://localhost:8080/",
          "height": 122
        },
        "id": "ixlwrwgGnnsk",
        "outputId": "06823a9f-a936-472d-8643-83558431da2a"
      },
      "execution_count": 36,
      "outputs": [
        {
          "output_type": "execute_result",
          "data": {
            "text/plain": [
              "'bệnh giun lươn là gì bệnh giun lươn strongyloides stercoralis được phát hiện đầu tiên ở nam bộ việt nam vào năm 1876 tần suất bệnh thực sự khó xác định vì phần lớn thường là nhiễm trùng tiềm ẩn 2 20 biểu hiện có thể thay đổi từ không triệu chứng đến suy đa cơ quan tử suất của người bệnh nhiễm giun lươn nhập 3viện 16 7 trên người suy giảm miễn dịch có thể gây bệnh lý nhiễm giun lươn lan tỏa gây tử vong bệnh có hai loại hình thái gồm giun lươn ký sinh và giun lươn sống tự do trong môi trường ngoài cơ thể ký chủ ấu trùng xâm nhập qua da vào hệ bạch huyết và hệ tĩnh mạch vào vòng tuần hoàn đến phổi khí quản thực quản dạ dày và phần đầu ruột non định vị tại đó ấu trùng khi đến phổi có thể không vào phế nang mà luân chuyển trong máu và đến các cơ quan khác trong quá trình di chuyển ấu trùng phải trải qua hai lần lột xác để trưởng thành giun trưởng thành thường sống ở tá hỗng tràng những trường hợp nhiễm nặng có thể gặp ở dạ dày môn vị đại tràng đường mật… mỗi giun trưởng thành có thể sống tới 5 năm và tiếp tục chu trình sinh sản trứng giun xuất hiện sau 28 ngày bị nhiễm giun lươn là loại ký sinh trùng duy nhất tìm thấy ấu trùng trong phân không phải trứng trứng giun lươn chỉ được tìm thấy khi tiêu chảy ồ ạt trong trường hợp bệnh nặng trứng không kịp nở ra ấu trùng trong ruột mới theo phân ra ngoài trong điều kiện khí hậu thuận lợi ấu trùng có thể phát triển thành giun lươn tự do sống ở ngoại cảnh trong một vài trường hợp như táo bón lâu ngày giảm nhu động ruột bệnh túi thừa ấu trùng không được thải theo phân ra ngoài thì có thể chui qua vách ruột vào hệ tuần hoàn rồi tiếp tục chu trình ký sinh như trên hệ thần kinh trung ương gan và phổi là nơi thường gặp của chu trình tự nhiễm này chu trình tự nhiễm này đặc biệt trên người suy giảm miễn dịch là nguyên nhân tái nhiễm kéo dài dù đã ra khỏi vùng dịch tễ có thể kéo dài tới 36 năm 2'"
            ],
            "application/vnd.google.colaboratory.intrinsic+json": {
              "type": "string"
            }
          },
          "metadata": {},
          "execution_count": 36
        }
      ]
    },
    {
      "cell_type": "code",
      "source": [
        "from multiprocessing.pool import ThreadPool\n",
        "import codecs\n",
        "import json\n",
        "import tqdm\n",
        "import time\n",
        "import random\n",
        "\n",
        "file = codecs.open(\"lol\", \"w\", \"utf-8\")\n",
        "file.write(u'\\ufeff')\n",
        "file.close()\n",
        "\n",
        "def task(args):\n",
        "    file_name, p_index, passage = args\n",
        "    total = []\n",
        "\n",
        "    qa = get_question_from_passage(passage, parameters)\n",
        "    questions = parse_vertex_ai_question(qa)\n",
        "    total += questions\n",
        "\n",
        "    return file_name, p_index, total\n",
        "\n",
        "# create a thread pool\n",
        "# pool = ThreadPool(processes=2)\n",
        "\n",
        "items = [(row['file_name'], row['p_index'], row['passage']) for _, row in data.iterrows()]\n",
        "random.shuffle(items)\n",
        "print(\"N items %s\" % len(items))\n",
        "\n",
        "# file = codecs.open(\"./data/raw_generate_qa_by_passage.jsonl\", \"w\", \"utf-8\")\n",
        "results = []\n",
        "# try:\n",
        "#     for file_name, p_index, questions in tqdm.tqdm(pool.imap(task, items), total=len(items)):\n",
        "#         r = {\"file_name\": file_name, \"p_index\": p_index, \"questions\": questions}\n",
        "#         results.append(r)\n",
        "#         # file.write(json.dumps(r, ensure_ascii=False) + '\\n')\n",
        "#         # file.flush()\n",
        "# except Exception as e:\n",
        "#     print(e)\n",
        "\n",
        "def persist(results):\n",
        "    with codecs.open(\"./data/raw_generate_qa_by_passage.jsonl\", \"a\", \"utf-8\") as f:\n",
        "        for r in results:\n",
        "            f.write(json.dumps(r, ensure_ascii=False))\n",
        "            f.write('\\n')\n",
        "\n",
        "for args in tqdm.tqdm(items):\n",
        "    try:\n",
        "        file_name, p_index, questions = task(args)\n",
        "        time.sleep(5)\n",
        "        r = {\"file_name\": file_name, \"p_index\": p_index, \"questions\": questions}\n",
        "        results.append(r)\n",
        "    except Exception as e:\n",
        "        print(\"Error \" + str(e))\n",
        "        persist(results)\n",
        "        results = []\n",
        "\n",
        "        time.sleep(120)\n",
        "        print(\"Retry ...\")\n",
        "        continue\n",
        "\n",
        "    if len(results) >= 10:\n",
        "        persist(results)\n",
        "        results = []\n",
        "\n"
      ],
      "metadata": {
        "colab": {
          "base_uri": "https://localhost:8080/"
        },
        "id": "sM81CXPUVUzM",
        "outputId": "5f463897-a85c-412d-d954-9f8706e2b762"
      },
      "execution_count": 7,
      "outputs": [
        {
          "output_type": "stream",
          "name": "stdout",
          "text": [
            "N items 4975\n"
          ]
        },
        {
          "output_type": "stream",
          "name": "stderr",
          "text": [
            "  3%|▎         | 139/4975 [20:58<12:02:19,  8.96s/it]"
          ]
        },
        {
          "output_type": "stream",
          "name": "stdout",
          "text": [
            "Error 400 Invalid message. \n"
          ]
        },
        {
          "output_type": "stream",
          "name": "stderr",
          "text": [
            "\r  3%|▎         | 140/4975 [22:59<56:51:13, 42.33s/it]"
          ]
        },
        {
          "output_type": "stream",
          "name": "stdout",
          "text": [
            "Retry ...\n"
          ]
        },
        {
          "output_type": "stream",
          "name": "stderr",
          "text": [
            "  6%|▌         | 299/4975 [47:05<12:24:55,  9.56s/it]"
          ]
        },
        {
          "output_type": "stream",
          "name": "stdout",
          "text": [
            "Error 500 Internal error encountered.\n"
          ]
        },
        {
          "output_type": "stream",
          "name": "stderr",
          "text": [
            "\r  6%|▌         | 300/4975 [49:09<56:53:45, 43.81s/it]"
          ]
        },
        {
          "output_type": "stream",
          "name": "stdout",
          "text": [
            "Retry ...\n"
          ]
        },
        {
          "output_type": "stream",
          "name": "stderr",
          "text": [
            "  9%|▉         | 465/4975 [1:14:29<15:42:35, 12.54s/it]"
          ]
        },
        {
          "output_type": "stream",
          "name": "stdout",
          "text": [
            "Error 400 Invalid message. \n"
          ]
        },
        {
          "output_type": "stream",
          "name": "stderr",
          "text": [
            "\r  9%|▉         | 466/4975 [1:16:29<56:08:35, 44.82s/it]"
          ]
        },
        {
          "output_type": "stream",
          "name": "stdout",
          "text": [
            "Retry ...\n"
          ]
        },
        {
          "output_type": "stream",
          "name": "stderr",
          "text": [
            " 21%|██▏       | 1060/4975 [2:47:23<9:52:59,  9.09s/it] "
          ]
        },
        {
          "output_type": "stream",
          "name": "stdout",
          "text": [
            "Error 400 Invalid message. \n"
          ]
        },
        {
          "output_type": "stream",
          "name": "stderr",
          "text": [
            "\r 21%|██▏       | 1061/4975 [2:49:23<46:06:53, 42.42s/it]"
          ]
        },
        {
          "output_type": "stream",
          "name": "stdout",
          "text": [
            "Retry ...\n"
          ]
        },
        {
          "output_type": "stream",
          "name": "stderr",
          "text": [
            " 69%|██████▊   | 3413/4975 [8:46:53<3:59:38,  9.21s/it]"
          ]
        },
        {
          "output_type": "stream",
          "name": "stdout",
          "text": [
            "Error 500 Internal error encountered.\n"
          ]
        },
        {
          "output_type": "stream",
          "name": "stderr",
          "text": [
            "\r 69%|██████▊   | 3414/4975 [8:49:02<19:32:40, 45.07s/it]"
          ]
        },
        {
          "output_type": "stream",
          "name": "stdout",
          "text": [
            "Retry ...\n"
          ]
        },
        {
          "output_type": "stream",
          "name": "stderr",
          "text": [
            "100%|██████████| 4975/4975 [12:45:41<00:00,  9.23s/it]\n"
          ]
        }
      ]
    },
    {
      "cell_type": "code",
      "source": [
        "with codecs.open(\"./data/raw_generate_qa_by_passage.jsonl\", \"r\", \"utf-8\") as f:\n",
        "    for line in f:\n",
        "        print(json.loads(line))"
      ],
      "metadata": {
        "id": "rxfSnWQPYnx7"
      },
      "execution_count": null,
      "outputs": []
    }
  ]
}