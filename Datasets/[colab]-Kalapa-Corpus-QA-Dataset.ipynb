{
  "nbformat": 4,
  "nbformat_minor": 0,
  "metadata": {
    "colab": {
      "provenance": [],
      "toc_visible": true
    },
    "kernelspec": {
      "name": "python3",
      "display_name": "Python 3"
    },
    "language_info": {
      "name": "python"
    }
  },
  "cells": [
    {
      "cell_type": "code",
      "execution_count": 1,
      "metadata": {
        "colab": {
          "base_uri": "https://localhost:8080/"
        },
        "id": "p0MFVhN63sBB",
        "outputId": "08365ba1-f4d2-4c3c-9011-879405c4e482"
      },
      "outputs": [
        {
          "output_type": "stream",
          "name": "stdout",
          "text": [
            "Mounted at /content/drive\n"
          ]
        }
      ],
      "source": [
        "from google.colab import drive\n",
        "drive.mount('/content/drive')"
      ]
    },
    {
      "cell_type": "code",
      "source": [
        "%cd /content/drive/MyDrive/MedicalMCQA-dh22"
      ],
      "metadata": {
        "colab": {
          "base_uri": "https://localhost:8080/"
        },
        "id": "l5lTFWyf4EYb",
        "outputId": "6e2b296f-0f75-4f8d-9627-c79e882703c0"
      },
      "execution_count": 3,
      "outputs": [
        {
          "output_type": "stream",
          "name": "stdout",
          "text": [
            "/content/drive/MyDrive/MedicalMCQA-dh22\n"
          ]
        }
      ]
    },
    {
      "cell_type": "markdown",
      "source": [
        "##**1. Process paragraph**"
      ],
      "metadata": {
        "id": "mYA6pDru3VLP"
      }
    },
    {
      "cell_type": "code",
      "source": [
        "# Read data\n",
        "import os\n",
        "import pandas as pd\n",
        "\n",
        "corpus = []\n",
        "for file_name in os.listdir('./data/corpus'):\n",
        "    with open(f'./data/corpus/{file_name}', 'r') as f:\n",
        "        doc = f.readlines()\n",
        "    corpus.append(\" \".join(doc))\n",
        "\n",
        "test_data = pd.read_csv(\"./data/public_test.csv\")"
      ],
      "metadata": {
        "id": "r57YDgCu3-xy"
      },
      "execution_count": 4,
      "outputs": []
    },
    {
      "cell_type": "code",
      "source": [
        "# import re\n",
        "# from tqdm import tqdm\n",
        "\n",
        "# # corpus[0][-2000:]\n",
        "# # d = set()\n",
        "# # for doc in tqdm(corpus):\n",
        "# #     matches = re.findall(r\".{4} Tâm Anh\", doc)\n",
        "# #     for m in matches:\n",
        "# #         d.add(m)\n",
        "# #     matches = re.findall(r\".{17} Tâm Anh\", doc)\n",
        "# #     for m in matches:\n",
        "# #         d.add(m)\n",
        "\n",
        "# # for s in d:\n",
        "# #     print(s)\n",
        "\n",
        "\n",
        "\n",
        "\n",
        "\n",
        "# # for idx, doc in enumerate(corpus):\n",
        "# #     doc = doc [-2000:]\n",
        "# #     if \"với Tâm Anh\" in doc:\n",
        "# #         print(idx)\n",
        "# #         break\n",
        "\n",
        "# doc = corpus[76]\n",
        "# print(doc[-2000:])\n",
        "# # print(doc)\n",
        "# print(remove_hospital_ads(doc)[-2000:])"
      ],
      "metadata": {
        "id": "v6lV6ul1iR8P"
      },
      "execution_count": null,
      "outputs": []
    },
    {
      "cell_type": "code",
      "source": [
        "import re\n",
        "import string\n",
        "\n",
        "def remove_url(text):\n",
        "    return re.sub(r\"http\\S+\", \"\", text)\n",
        "\n",
        "def remove_poor_information_trunk(text):\n",
        "    # remove BV TamAnh quote links\n",
        "    text = re.sub(r\"<blockquote>.*?</blockquote>\", \"\", text)\n",
        "\n",
        "    # remove BV TamAnh advertising portions\n",
        "    text = remove_hospital_ads(text)\n",
        "    return text\n",
        "\n",
        "hospital_token_list = [\n",
        "    \"BVĐK Tâm Anh\",\n",
        "    \"BVĐ K Tâm Anh\",\n",
        "    \"BV Tâm Anh\",\n",
        "    \"tại Tâm Anh\",\n",
        "    \"Tại Tâm Anh\",\n",
        "    \"Bệnh Viện Tâm Anh\",\n",
        "    \"Bệnh Viện Đa Khoa Tâm Anh\",\n",
        "    \"với Tâm Anh\",\n",
        "    \"IVF Tâm Anh\",\n",
        "]\n",
        "hospital_re_list = list(map(lambda token: re.compile(\"{}.*?(  |\\.|\\n)\".format(token[::-1].lower()), re.IGNORECASE), hospital_token_list))\n",
        "def remove_hospital_ads(doc):\n",
        "    tail = doc[-2000:][::-1]\n",
        "    start = 0\n",
        "    for p in hospital_re_list:\n",
        "        # res = re.search(p, tail)\n",
        "        iter = re.finditer(p, tail)\n",
        "        res = [m.start(1) for m in iter]\n",
        "        if res:\n",
        "            # index = res.start(1)\n",
        "            index = max(res)\n",
        "            print(res, index)\n",
        "            if start < index:\n",
        "                start = index\n",
        "    return doc[:-start]\n",
        "\n",
        "def remove_html_tags(text):\n",
        "    clean = re.compile('<.*?>')\n",
        "    return re.sub(clean, '', text)\n",
        "\n",
        "codes = [\"&#8211\", \"&#038\"]\n",
        "def remove_special_token(text):\n",
        "    for code in codes:\n",
        "        text = text.replace(code, \" \")\n",
        "    return text\n",
        "\n",
        "def remove_punctation(text):\n",
        "    for punctuation in string.punctuation:\n",
        "        text = text.replace(punctuation, ' ')\n",
        "    return text\n",
        "\n",
        "def preprocess_text(text, remove_punc=True, is_lower=True):\n",
        "    if remove_punc:\n",
        "        text = \" \".join(remove_punctation(remove_special_token(remove_html_tags(remove_poor_information_trunk(remove_url(text))))).split())\n",
        "    else:\n",
        "        text = \" \".join(remove_special_token(remove_html_tags(remove_poor_information_trunk(remove_url(text)))).split())\n",
        "    if is_lower:\n",
        "        return text.lower()\n",
        "    else:\n",
        "        return text"
      ],
      "metadata": {
        "id": "r7U874AS7E-g"
      },
      "execution_count": 113,
      "outputs": []
    },
    {
      "cell_type": "code",
      "source": [
        "# Get title (or title + sub_title (menu))\n",
        "codes = [\"&#8211\", \"&#038\"]\n",
        "def get_titles(corpus):\n",
        "    titles = []\n",
        "    for doc in corpus:\n",
        "        raw = doc.split(\"\\n\")[5]\n",
        "        title = doc.split(\"\\n\")[5].split(\":\")[0].split(\"?\")[0]\n",
        "        for code in codes:\n",
        "            title = title.replace(code, \" \")\n",
        "        title = preprocess_text(title)\n",
        "        titles.append(title)\n",
        "    return titles\n",
        "\n",
        "titles = get_titles(corpus)"
      ],
      "metadata": {
        "id": "WJtnqO2k3aIe"
      },
      "execution_count": 65,
      "outputs": []
    },
    {
      "cell_type": "code",
      "source": [
        "def split_doc(doc):\n",
        "    paragraphs = doc.split(\"<h3>Mục lục</h3>\")[1].split(\"<h2>\")\n",
        "    menu = paragraphs[0]\n",
        "    paragraphs = paragraphs[1:]\n",
        "    process_paragraphs = []\n",
        "    for paragraph in paragraphs:\n",
        "        if \"hệ thống bệnh viện đa khoa tâm anh\" in paragraph.lower():\n",
        "            process_paragraph = paragraph.lower().split(\"hệ thống bệnh viện đa khoa tâm anh\")[0]\n",
        "            process_paragraph = paragraph[ : len(process_paragraph)]\n",
        "        else:\n",
        "            process_paragraph = paragraph\n",
        "        process_paragraphs.append(process_paragraph)\n",
        "    return menu, process_paragraphs"
      ],
      "metadata": {
        "id": "ZR5mDCr35nAM"
      },
      "execution_count": 66,
      "outputs": []
    },
    {
      "cell_type": "markdown",
      "source": [
        "**Test set**"
      ],
      "metadata": {
        "id": "GlWU-if0HmLh"
      }
    },
    {
      "cell_type": "code",
      "source": [
        "# process_passages = [preprocess_text(passage, False, False) for passage in passages]\n",
        "# for idx, doc in enumerate(corpus):\n",
        "#     if \"quote\" in doc:\n",
        "#         print(idx)\n",
        "#         break\n",
        "\n",
        "doc = corpus[2]\n",
        "# preprocess_text(doc)\n",
        "print(doc[-2000:])\n",
        "print(remove_hospital_ads(doc)[-2000:])"
      ],
      "metadata": {
        "id": "tgMwHF7tImqC",
        "colab": {
          "base_uri": "https://localhost:8080/"
        },
        "outputId": "bfe890a7-0c15-4854-e540-8f6ff6544749"
      },
      "execution_count": 114,
      "outputs": [
        {
          "output_type": "stream",
          "name": "stdout",
          "text": [
            "\n",
            " bệnh viêm phế quản phổi\n",
            "  cũng như khiến các triệu chứng tăng nặng, nguy cơ gặp biến chứng cao, thời gian phục hồi lâu. Vì thế, nên ngừng hút thuốc lá để tránh nguy cơ mắc \n",
            " viêm phế quản phổi\n",
            "  và các bệnh hô hấp khác.\n",
            "  Nên có chế độ sinh hoạt lành mạnh, ăn uống đầy đủ, không bỏ bữa, bổ sung các chất dinh dưỡng cần thiết. Bên cạnh đó, cần nghỉ ngơi nhiều, tránh kiệt sức, hạn chế thức khuya,&#8230; khiến cơ thể bị suy giảm hệ miễn dịch.\n",
            "  Tiêm phòng cũng có thể giúp <strong>ngăn ngừa viêm phổi</strong>. Vì thế, nên tiêm phòng cúm hàng năm để hạn chế cơ thể bị virus, vi khuẩn tấn công. Cả người lớn và trẻ em đều nên thực hiện tiêm phòng.\n",
            " <em>Người mắc bệnh viêm phế quản phổi cần chủ động đeo khẩu trang để tránh lây bệnh</em> Trong trường hợp bị ho kéo dài, ho ra máu, đau ngực, khó thở,&#8230; và nghi ngờ bị \n",
            " viêm phế quản phổi\n",
            " , người bệnh có thể trực tiếp đến Khoa Nội hô hấp, Hệ thống Bệnh viện Đa khoa Tâm Anh để được hỗ trợ.\n",
            "  Với các bác sĩ đầu ngành giàu kinh nghiệm, giỏi chuyên môn cùng hệ thống máy chụp X-quang, CT, hệ thống xét nghiệm hiện đại,&#8230; Bệnh viện Tâm Anh đang là nơi tin tưởng hàng đầu của bệnh nhân đến thăm khám các vấn đề hô hấp.\n",
            "  Để đặt lịch thăm khám, tư vấn các vấn đề về sức khỏe tại Hệ thống Bệnh viện Đa khoa Tâm Anh, Quý khách vui lòng liên hệ:\n",
            "  <strong>HỆ THỐNG BỆNH VIỆN ĐA KHOA TÂM ANH</strong>  Hà Nội:\n",
            "   108 Hoàng Như Tiếp, P.Bồ Đề, Q.Long Biên, TP.Hà Nội\n",
            "  Hotline: <strong>024 3872 3872 &#8211; 024 7106 6858</strong>\n",
            "     TP.HCM:\n",
            "   2B Phổ Quang, P.2, Q.Tân Bình, TP.Hồ Chí Minh\n",
            "  Hotline: <strong>0287 102 6789 &#8211; 093 180 6858</strong>\n",
            "     Fanpage: \n",
            " <strong>https://www.facebook.com/benhvientamanh</strong> Website: \n",
            " <strong>https://tamanhhospital.vn</strong>    Bệnh \n",
            " viêm phế quản phổi\n",
            "  là một bệnh hô hấp phổ biến, có thể dẫn đến biến chứng nặng gây tử vong. Dù bị \n",
            " viêm phế quản phổi\n",
            "  nặng hay nhẹ thì người bệnh cũng nên đến cơ sở y tế để được thăm khám, tránh trường hợp chủ quan khiến bệnh diễn biến theo hướng xấu.\n",
            "\n",
            "[1052] 1052\n",
            "[699, 822, 1157] 1157\n",
            " phổi\n",
            "  do tình trạng viêm, nhiễm trùng gây phản ứng miễn dịch, khiến các cơ quan và mô trong cơ thể bị tổn thương.\n",
            "  Người bệnh viêm phế quản nếu bị nhiễm trùng huyết có thể dẫn đến suy đa tạng, nguy cơ tử vong cao.\n",
            " <h3><b><i>4. Áp xe phổi</i></b></h3> Khi \n",
            " bệnh viêm phế quản phổi\n",
            "  diễn biến nghiêm trọng thì có thể khiến các túi dịch chứa mủ tràn vào bên trong phổi, gọi là áp xe phổi.\n",
            " <h3><b><i>5. Các biến chứng khác</i></b></h3> Tình trạng \n",
            " viêm phế quản phổi\n",
            "  còn có thể dẫn đến suy thận, suy tim, nhịp tim không đều,&#8230;\n",
            " <h2><b>Cách phòng ngừa </b><b>bệnh viêm phế quản phổi</b></h2> Một số biện pháp đơn giản sau đây có thể giúp bạn phòng ngừa, giảm nguy cơ mắc \n",
            " bệnh viêm phế quản phổi\n",
            " . Cụ thể:\n",
            "   Nên chủ động rửa tay trước khi ăn, dụi mắt, đưa tay lên mắt mũi miệng,&#8230; Ngoài ra, nên rửa tay sau khi đi vệ sinh, tiếp xúc với người bệnh, cầm nắm các vật dụng &#8211; thiết bị công cộng,&#8230;\n",
            "  Đeo khẩu trang khi tiếp xúc với người bệnh hoặc nghi ngờ nhiễm bệnh. Tốt nhất nên hạn chế giao tiếp. Người bệnh cũng cần đeo khẩu trang để tránh bệnh lây lan ra cộng đồng.\n",
            "  Hút thuốc lá có thể gây tổn hại đến phổi, tăng nguy cơ mắc \n",
            " bệnh viêm phế quản phổi\n",
            "  cũng như khiến các triệu chứng tăng nặng, nguy cơ gặp biến chứng cao, thời gian phục hồi lâu. Vì thế, nên ngừng hút thuốc lá để tránh nguy cơ mắc \n",
            " viêm phế quản phổi\n",
            "  và các bệnh hô hấp khác.\n",
            "  Nên có chế độ sinh hoạt lành mạnh, ăn uống đầy đủ, không bỏ bữa, bổ sung các chất dinh dưỡng cần thiết. Bên cạnh đó, cần nghỉ ngơi nhiều, tránh kiệt sức, hạn chế thức khuya,&#8230; khiến cơ thể bị suy giảm hệ miễn dịch.\n",
            "  Tiêm phòng cũng có thể giúp <strong>ngăn ngừa viêm phổi</strong>. Vì thế, nên tiêm phòng cúm hàng năm để hạn chế cơ thể bị virus, vi khuẩn tấn công. Cả người lớn và trẻ em đều nên thực hiện tiêm phòng.\n",
            " <em>Người mắc bệnh viêm phế quản phổi cần chủ động đeo khẩu trang để tránh lây bệnh</em> Trong trường hợp bị ho kéo dài, ho ra máu, đau ngực, khó thở,&#8230; và nghi ngờ bị \n",
            " viêm phế quản phổi\n",
            "\n"
          ]
        }
      ]
    },
    {
      "cell_type": "code",
      "source": [
        "# import matplotlib.pyplot as plt\n",
        "# plt.hist([len(doc.split()) for doc in process_passages], bins=128, range=(0, 1000))\n",
        "# plt.show()"
      ],
      "metadata": {
        "colab": {
          "base_uri": "https://localhost:8080/",
          "height": 430
        },
        "id": "zeBntmshJKFl",
        "outputId": "0aa55828-da71-4ee0-8071-84e7f81f8b09"
      },
      "execution_count": null,
      "outputs": [
        {
          "output_type": "display_data",
          "data": {
            "text/plain": [
              "<Figure size 640x480 with 1 Axes>"
            ],
            "image/png": "[encoded data removed]"
          },
          "metadata": {}
        }
      ]
    },
    {
      "cell_type": "code",
      "source": [
        "# test_data.to_csv('./data/public_test_with_context.csv', index=False)"
      ],
      "metadata": {
        "id": "yeqj7QpnJqMz"
      },
      "execution_count": null,
      "outputs": []
    },
    {
      "cell_type": "markdown",
      "source": [
        "##**2. QA generation by VertexAI**"
      ],
      "metadata": {
        "id": "QB3B1veQK-qe"
      }
    },
    {
      "cell_type": "code",
      "source": [
        "!pip install deep_translator"
      ],
      "metadata": {
        "colab": {
          "base_uri": "https://localhost:8080/"
        },
        "id": "kH7b0i6sLE2D",
        "outputId": "568193ba-7185-4236-e42d-c4ed9dc460ce"
      },
      "execution_count": null,
      "outputs": [
        {
          "output_type": "stream",
          "name": "stdout",
          "text": [
            "Collecting deep_translator\n",
            "  Downloading deep_translator-1.11.4-py3-none-any.whl (42 kB)\n",
            "\u001b[?25l     \u001b[90m━━━━━━━━━━━━━━━━━━━━━━━━━━━━━━━━━━━━━━━━\u001b[0m \u001b[32m0.0/42.3 kB\u001b[0m \u001b[31m?\u001b[0m eta \u001b[36m-:--:--\u001b[0m\r\u001b[2K     \u001b[90m━━━━━━━━━━━━━━━━━━━━━━━━━━━━━━━━━━━━━━━━\u001b[0m \u001b[32m42.3/42.3 kB\u001b[0m \u001b[31m1.0 MB/s\u001b[0m eta \u001b[36m0:00:00\u001b[0m\n",
            "\u001b[?25hRequirement already satisfied: beautifulsoup4<5.0.0,>=4.9.1 in /usr/local/lib/python3.10/dist-packages (from deep_translator) (4.11.2)\n",
            "Requirement already satisfied: requests<3.0.0,>=2.23.0 in /usr/local/lib/python3.10/dist-packages (from deep_translator) (2.31.0)\n",
            "Requirement already satisfied: soupsieve>1.2 in /usr/local/lib/python3.10/dist-packages (from beautifulsoup4<5.0.0,>=4.9.1->deep_translator) (2.5)\n",
            "Requirement already satisfied: charset-normalizer<4,>=2 in /usr/local/lib/python3.10/dist-packages (from requests<3.0.0,>=2.23.0->deep_translator) (3.3.0)\n",
            "Requirement already satisfied: idna<4,>=2.5 in /usr/local/lib/python3.10/dist-packages (from requests<3.0.0,>=2.23.0->deep_translator) (3.4)\n",
            "Requirement already satisfied: urllib3<3,>=1.21.1 in /usr/local/lib/python3.10/dist-packages (from requests<3.0.0,>=2.23.0->deep_translator) (2.0.6)\n",
            "Requirement already satisfied: certifi>=2017.4.17 in /usr/local/lib/python3.10/dist-packages (from requests<3.0.0,>=2.23.0->deep_translator) (2023.7.22)\n",
            "Installing collected packages: deep_translator\n",
            "Successfully installed deep_translator-1.11.4\n"
          ]
        }
      ]
    },
    {
      "cell_type": "code",
      "source": [
        "from deep_translator import GoogleTranslator\n",
        "\n",
        "translator = GoogleTranslator(source='vi', target='en')"
      ],
      "metadata": {
        "id": "_jLWDJV0LCs_"
      },
      "execution_count": null,
      "outputs": []
    },
    {
      "cell_type": "code",
      "source": [
        "def translate_text(text):\n",
        "    if isinstance(text, str):\n",
        "        translated_text = translator.translate(text)\n",
        "        return translated_text\n",
        "    else:\n",
        "        return ''"
      ],
      "metadata": {
        "id": "8lOz6R0_Mhwq"
      },
      "execution_count": null,
      "outputs": []
    },
    {
      "cell_type": "code",
      "source": [
        "translate_text(test_data['context'][0])"
      ],
      "metadata": {
        "colab": {
          "base_uri": "https://localhost:8080/",
          "height": 160
        },
        "id": "by87CekPLQA5",
        "outputId": "095d07b1-54e6-48f2-dc64-9430307ac08f"
      },
      "execution_count": null,
      "outputs": [
        {
          "output_type": "execute_result",
          "data": {
            "text/plain": [
              "'Method of diagnosing placenta praevia Usually, the diagnosis is made by ultrasound. In addition, ultrasound is also important in diagnosing placenta previa, complications of placenta accreta. (4) Ultrasound images will show that the distance between the placenta and the bladder wall is narrowed, blood vessels passing through the uterine muscle wall to the bladder wall are common on Doppler ultrasound. Therefore, ultrasound is recommended to be performed after the 28th week of pregnancy to detect this complication early. /// How many weeks will it take to know placenta praevia? Doctor Nguyen Duc Hinh said that most cases of placenta previa can be detected as early as the 20th week of pregnancy thanks to fetal ultrasound. During the ultrasound process, with the support of many modern equipment, the doctor can observe where in the uterus the placenta is attached (body, fundus, front, back, left, right). , low grip, semi-central or central). Diagnosis of placenta previa is mainly done by ultrasound. “During pregnancy, if the pregnant woman has placenta previa, it will be very dangerous to the health of the mother and baby during pregnancy. Therefore, pregnant women need to strictly follow the doctor\\'s prenatal examination schedule to detect abnormalities early in pregnancy and intervene promptly and effectively,\" Dr. Nguyen Duc Hinh emphasized.'"
            ],
            "application/vnd.google.colaboratory.intrinsic+json": {
              "type": "string"
            }
          },
          "metadata": {},
          "execution_count": 69
        }
      ]
    },
    {
      "cell_type": "code",
      "source": [
        "translate_text(test_data['option_5'][0])"
      ],
      "metadata": {
        "colab": {
          "base_uri": "https://localhost:8080/",
          "height": 36
        },
        "id": "Ja1qWS_aL6SS",
        "outputId": "d199e346-8082-466a-8692-c3d3b2df1bd3"
      },
      "execution_count": null,
      "outputs": [
        {
          "output_type": "execute_result",
          "data": {
            "text/plain": [
              "''"
            ],
            "application/vnd.google.colaboratory.intrinsic+json": {
              "type": "string"
            }
          },
          "metadata": {},
          "execution_count": 70
        }
      ]
    },
    {
      "cell_type": "code",
      "source": [],
      "metadata": {
        "id": "JBPpK6n4OLWU"
      },
      "execution_count": null,
      "outputs": []
    },
    {
      "cell_type": "code",
      "source": [
        "from tqdm import tqdm\n",
        "\n",
        "en_test_data = []\n",
        "for idx, row in tqdm(test_data.iterrows()):\n",
        "    id = row['id']\n",
        "    question = translate_text(row['question'])\n",
        "    option_1 = translate_text(row['option_1'])\n",
        "    option_2 = translate_text(row['option_2'])\n",
        "    option_3 = translate_text(row['option_3'])\n",
        "    option_4 = translate_text(row['option_4'])\n",
        "    option_5 = translate_text(row['option_5'])\n",
        "    option_6 = translate_text(row['option_6'])\n",
        "    context = translate_text(row['context'])\n",
        "    data = {\n",
        "        'id': id,\n",
        "        'question': question,\n",
        "        'option_1': option_1,\n",
        "        'option_2': option_2,\n",
        "        'option_3': option_3,\n",
        "        'option_4': option_4,\n",
        "        'option_5': option_5,\n",
        "        'option_6': option_6,\n",
        "        'context': context,\n",
        "    }\n",
        "    en_test_data.append(data)"
      ],
      "metadata": {
        "colab": {
          "base_uri": "https://localhost:8080/"
        },
        "id": "fM5k2iVTMXDq",
        "outputId": "50cc5fd5-b5d9-41b0-9bd4-861eb539bfb1"
      },
      "execution_count": null,
      "outputs": [
        {
          "output_type": "stream",
          "name": "stderr",
          "text": [
            "100it [07:27,  4.48s/it]\n"
          ]
        }
      ]
    },
    {
      "cell_type": "code",
      "source": [
        "en_test_df = pd.DataFrame(en_test_data)"
      ],
      "metadata": {
        "id": "0ixJ9rjKPlmp"
      },
      "execution_count": null,
      "outputs": []
    },
    {
      "cell_type": "code",
      "source": [
        "en_test_df"
      ],
      "metadata": {
        "colab": {
          "base_uri": "https://localhost:8080/",
          "height": 684
        },
        "id": "c4wveElzPtJE",
        "outputId": "73fb5577-5e4f-4632-f650-016d07079704"
      },
      "execution_count": null,
      "outputs": [
        {
          "output_type": "execute_result",
          "data": {
            "text/plain": [
              "           id                                           question  \\\n",
              "0    level3_1  Huong is pregnant and worried she may have pla...   \n",
              "1    level3_2  Huong is 5 weeks pregnant and is worried she m...   \n",
              "2    level3_5  How many strikers know that in football, each ...   \n",
              "3   level3_13  Patient Dung was diagnosed with hepatitis last...   \n",
              "4   level3_14  A patient has testicular pain. After being que...   \n",
              "..        ...                                                ...   \n",
              "95   level4_4  Xiao Tang is a famous female singer in China. ...   \n",
              "96   level4_9  Mai is currently 9 months pregnant. There are ...   \n",
              "97  level4_27  Mr. Bien is 73 years old this year. During a f...   \n",
              "98  level4_28  Brain tumor is a condition in which tumors for...   \n",
              "99  level4_35  Vaccines are antigenic preparations originatin...   \n",
              "\n",
              "                            option_1              option_2  \\\n",
              "0                         A. Week 10             B.Week 20   \n",
              "1                         A. 5 weeks           B. 15 weeks   \n",
              "2                               A. 2                   B.3   \n",
              "3                               Have               Are not   \n",
              "4         A. Urinary tract infection  B. Testicular cancer   \n",
              "..                               ...                   ...   \n",
              "95    Sore throat due to tonsillitis              Diabetes   \n",
              "96                    Genital herpes             Gonorrhea   \n",
              "97                      Brain tumors         Lack of brain   \n",
              "98  These are all dangerous diseases       It's all cancer   \n",
              "99                       Hepatitis A           Hepatitis B   \n",
              "\n",
              "                                option_3                          option_4  \\\n",
              "0                             C. Week 30                        D. Week 40   \n",
              "1                            C. 25 weeks                       D. 35 weeks   \n",
              "2                                   C. 4                              D. 5   \n",
              "3                                                                            \n",
              "4                              C. Trauma                     D. Varicocele   \n",
              "..                                   ...                               ...   \n",
              "95                 Nasopharyngeal cancer              Internal hemorrhoids   \n",
              "96                             Chlamydia                          Syphilis   \n",
              "97           Cerebral vascular occlusion                            Stroke   \n",
              "98  The exact cause cannot be determined  Occurs most often in the elderly   \n",
              "99                           Hepatitis C                                     \n",
              "\n",
              "   option_5 option_6                                            context  \n",
              "0                     Method of diagnosing placenta praevia Usually,...  \n",
              "1                     Method of diagnosing placenta praevia Usually,...  \n",
              "2                     Method of diagnosing placenta praevia Usually,...  \n",
              "3                     Causes of mumps Mumps is present worldwide and...  \n",
              "4                     How dangerous is right testicle pain? Most cas...  \n",
              "..      ...      ...                                                ...  \n",
              "95                    What is diabetic retinopathy? Diabetic retinop...  \n",
              "96                    Method for diagnosing morning sickness. Doctor...  \n",
              "97                    What is hearing loss in one ear? Unilateral he...  \n",
              "98                    What is a benign brain tumor? A benign brain t...  \n",
              "99                    What is azoospermia? No sperm (other names are...  \n",
              "\n",
              "[100 rows x 9 columns]"
            ],
            "text/html": [
              "\n",
              "  <div id=\"df-34180365-2d7b-41e2-8a71-f74d98ccd1ab\" class=\"colab-df-container\">\n",
              "    <div>\n",
              "<style scoped>\n",
              "    .dataframe tbody tr th:only-of-type {\n",
              "        vertical-align: middle;\n",
              "    }\n",
              "\n",
              "    .dataframe tbody tr th {\n",
              "        vertical-align: top;\n",
              "    }\n",
              "\n",
              "    .dataframe thead th {\n",
              "        text-align: right;\n",
              "    }\n",
              "</style>\n",
              "<table border=\"1\" class=\"dataframe\">\n",
              "  <thead>\n",
              "    <tr style=\"text-align: right;\">\n",
              "      <th></th>\n",
              "      <th>id</th>\n",
              "      <th>question</th>\n",
              "      <th>option_1</th>\n",
              "      <th>option_2</th>\n",
              "      <th>option_3</th>\n",
              "      <th>option_4</th>\n",
              "      <th>option_5</th>\n",
              "      <th>option_6</th>\n",
              "      <th>context</th>\n",
              "    </tr>\n",
              "  </thead>\n",
              "  <tbody>\n",
              "    <tr>\n",
              "      <th>0</th>\n",
              "      <td>level3_1</td>\n",
              "      <td>Huong is pregnant and worried she may have pla...</td>\n",
              "      <td>A. Week 10</td>\n",
              "      <td>B.Week 20</td>\n",
              "      <td>C. Week 30</td>\n",
              "      <td>D. Week 40</td>\n",
              "      <td></td>\n",
              "      <td></td>\n",
              "      <td>Method of diagnosing placenta praevia Usually,...</td>\n",
              "    </tr>\n",
              "    <tr>\n",
              "      <th>1</th>\n",
              "      <td>level3_2</td>\n",
              "      <td>Huong is 5 weeks pregnant and is worried she m...</td>\n",
              "      <td>A. 5 weeks</td>\n",
              "      <td>B. 15 weeks</td>\n",
              "      <td>C. 25 weeks</td>\n",
              "      <td>D. 35 weeks</td>\n",
              "      <td></td>\n",
              "      <td></td>\n",
              "      <td>Method of diagnosing placenta praevia Usually,...</td>\n",
              "    </tr>\n",
              "    <tr>\n",
              "      <th>2</th>\n",
              "      <td>level3_5</td>\n",
              "      <td>How many strikers know that in football, each ...</td>\n",
              "      <td>A. 2</td>\n",
              "      <td>B.3</td>\n",
              "      <td>C. 4</td>\n",
              "      <td>D. 5</td>\n",
              "      <td></td>\n",
              "      <td></td>\n",
              "      <td>Method of diagnosing placenta praevia Usually,...</td>\n",
              "    </tr>\n",
              "    <tr>\n",
              "      <th>3</th>\n",
              "      <td>level3_13</td>\n",
              "      <td>Patient Dung was diagnosed with hepatitis last...</td>\n",
              "      <td>Have</td>\n",
              "      <td>Are not</td>\n",
              "      <td></td>\n",
              "      <td></td>\n",
              "      <td></td>\n",
              "      <td></td>\n",
              "      <td>Causes of mumps Mumps is present worldwide and...</td>\n",
              "    </tr>\n",
              "    <tr>\n",
              "      <th>4</th>\n",
              "      <td>level3_14</td>\n",
              "      <td>A patient has testicular pain. After being que...</td>\n",
              "      <td>A. Urinary tract infection</td>\n",
              "      <td>B. Testicular cancer</td>\n",
              "      <td>C. Trauma</td>\n",
              "      <td>D. Varicocele</td>\n",
              "      <td></td>\n",
              "      <td></td>\n",
              "      <td>How dangerous is right testicle pain? Most cas...</td>\n",
              "    </tr>\n",
              "    <tr>\n",
              "      <th>...</th>\n",
              "      <td>...</td>\n",
              "      <td>...</td>\n",
              "      <td>...</td>\n",
              "      <td>...</td>\n",
              "      <td>...</td>\n",
              "      <td>...</td>\n",
              "      <td>...</td>\n",
              "      <td>...</td>\n",
              "      <td>...</td>\n",
              "    </tr>\n",
              "    <tr>\n",
              "      <th>95</th>\n",
              "      <td>level4_4</td>\n",
              "      <td>Xiao Tang is a famous female singer in China. ...</td>\n",
              "      <td>Sore throat due to tonsillitis</td>\n",
              "      <td>Diabetes</td>\n",
              "      <td>Nasopharyngeal cancer</td>\n",
              "      <td>Internal hemorrhoids</td>\n",
              "      <td></td>\n",
              "      <td></td>\n",
              "      <td>What is diabetic retinopathy? Diabetic retinop...</td>\n",
              "    </tr>\n",
              "    <tr>\n",
              "      <th>96</th>\n",
              "      <td>level4_9</td>\n",
              "      <td>Mai is currently 9 months pregnant. There are ...</td>\n",
              "      <td>Genital herpes</td>\n",
              "      <td>Gonorrhea</td>\n",
              "      <td>Chlamydia</td>\n",
              "      <td>Syphilis</td>\n",
              "      <td></td>\n",
              "      <td></td>\n",
              "      <td>Method for diagnosing morning sickness. Doctor...</td>\n",
              "    </tr>\n",
              "    <tr>\n",
              "      <th>97</th>\n",
              "      <td>level4_27</td>\n",
              "      <td>Mr. Bien is 73 years old this year. During a f...</td>\n",
              "      <td>Brain tumors</td>\n",
              "      <td>Lack of brain</td>\n",
              "      <td>Cerebral vascular occlusion</td>\n",
              "      <td>Stroke</td>\n",
              "      <td></td>\n",
              "      <td></td>\n",
              "      <td>What is hearing loss in one ear? Unilateral he...</td>\n",
              "    </tr>\n",
              "    <tr>\n",
              "      <th>98</th>\n",
              "      <td>level4_28</td>\n",
              "      <td>Brain tumor is a condition in which tumors for...</td>\n",
              "      <td>These are all dangerous diseases</td>\n",
              "      <td>It's all cancer</td>\n",
              "      <td>The exact cause cannot be determined</td>\n",
              "      <td>Occurs most often in the elderly</td>\n",
              "      <td></td>\n",
              "      <td></td>\n",
              "      <td>What is a benign brain tumor? A benign brain t...</td>\n",
              "    </tr>\n",
              "    <tr>\n",
              "      <th>99</th>\n",
              "      <td>level4_35</td>\n",
              "      <td>Vaccines are antigenic preparations originatin...</td>\n",
              "      <td>Hepatitis A</td>\n",
              "      <td>Hepatitis B</td>\n",
              "      <td>Hepatitis C</td>\n",
              "      <td></td>\n",
              "      <td></td>\n",
              "      <td></td>\n",
              "      <td>What is azoospermia? No sperm (other names are...</td>\n",
              "    </tr>\n",
              "  </tbody>\n",
              "</table>\n",
              "<p>100 rows × 9 columns</p>\n",
              "</div>\n",
              "    <div class=\"colab-df-buttons\">\n",
              "\n",
              "  <div class=\"colab-df-container\">\n",
              "    <button class=\"colab-df-convert\" onclick=\"convertToInteractive('df-34180365-2d7b-41e2-8a71-f74d98ccd1ab')\"\n",
              "            title=\"Convert this dataframe to an interactive table.\"\n",
              "            style=\"display:none;\">\n",
              "\n",
              "  <svg xmlns=\"http://www.w3.org/2000/svg\" height=\"24px\" viewBox=\"0 -960 960 960\">\n",
              "    <path d=\"M120-120v-720h720v720H120Zm60-500h600v-160H180v160Zm220 220h160v-160H400v160Zm0 220h160v-160H400v160ZM180-400h160v-160H180v160Zm440 0h160v-160H620v160ZM180-180h160v-160H180v160Zm440 0h160v-160H620v160Z\"/>\n",
              "  </svg>\n",
              "    </button>\n",
              "\n",
              "  <style>\n",
              "    .colab-df-container {\n",
              "      display:flex;\n",
              "      gap: 12px;\n",
              "    }\n",
              "\n",
              "    .colab-df-convert {\n",
              "      background-color: #E8F0FE;\n",
              "      border: none;\n",
              "      border-radius: 50%;\n",
              "      cursor: pointer;\n",
              "      display: none;\n",
              "      fill: #1967D2;\n",
              "      height: 32px;\n",
              "      padding: 0 0 0 0;\n",
              "      width: 32px;\n",
              "    }\n",
              "\n",
              "    .colab-df-convert:hover {\n",
              "      background-color: #E2EBFA;\n",
              "      box-shadow: 0px 1px 2px rgba(60, 64, 67, 0.3), 0px 1px 3px 1px rgba(60, 64, 67, 0.15);\n",
              "      fill: #174EA6;\n",
              "    }\n",
              "\n",
              "    .colab-df-buttons div {\n",
              "      margin-bottom: 4px;\n",
              "    }\n",
              "\n",
              "    [theme=dark] .colab-df-convert {\n",
              "      background-color: #3B4455;\n",
              "      fill: #D2E3FC;\n",
              "    }\n",
              "\n",
              "    [theme=dark] .colab-df-convert:hover {\n",
              "      background-color: #434B5C;\n",
              "      box-shadow: 0px 1px 3px 1px rgba(0, 0, 0, 0.15);\n",
              "      filter: drop-shadow(0px 1px 2px rgba(0, 0, 0, 0.3));\n",
              "      fill: #FFFFFF;\n",
              "    }\n",
              "  </style>\n",
              "\n",
              "    <script>\n",
              "      const buttonEl =\n",
              "        document.querySelector('#df-34180365-2d7b-41e2-8a71-f74d98ccd1ab button.colab-df-convert');\n",
              "      buttonEl.style.display =\n",
              "        google.colab.kernel.accessAllowed ? 'block' : 'none';\n",
              "\n",
              "      async function convertToInteractive(key) {\n",
              "        const element = document.querySelector('#df-34180365-2d7b-41e2-8a71-f74d98ccd1ab');\n",
              "        const dataTable =\n",
              "          await google.colab.kernel.invokeFunction('convertToInteractive',\n",
              "                                                    [key], {});\n",
              "        if (!dataTable) return;\n",
              "\n",
              "        const docLinkHtml = 'Like what you see? Visit the ' +\n",
              "          '<a target=\"_blank\" href=https://colab.research.google.com/notebooks/data_table.ipynb>data table notebook</a>'\n",
              "          + ' to learn more about interactive tables.';\n",
              "        element.innerHTML = '';\n",
              "        dataTable['output_type'] = 'display_data';\n",
              "        await google.colab.output.renderOutput(dataTable, element);\n",
              "        const docLink = document.createElement('div');\n",
              "        docLink.innerHTML = docLinkHtml;\n",
              "        element.appendChild(docLink);\n",
              "      }\n",
              "    </script>\n",
              "  </div>\n",
              "\n",
              "\n",
              "<div id=\"df-cf024cc6-8c4f-4dd2-b121-993e32321582\">\n",
              "  <button class=\"colab-df-quickchart\" onclick=\"quickchart('df-cf024cc6-8c4f-4dd2-b121-993e32321582')\"\n",
              "            title=\"Suggest charts.\"\n",
              "            style=\"display:none;\">\n",
              "\n",
              "<svg xmlns=\"http://www.w3.org/2000/svg\" height=\"24px\"viewBox=\"0 0 24 24\"\n",
              "     width=\"24px\">\n",
              "    <g>\n",
              "        <path d=\"M19 3H5c-1.1 0-2 .9-2 2v14c0 1.1.9 2 2 2h14c1.1 0 2-.9 2-2V5c0-1.1-.9-2-2-2zM9 17H7v-7h2v7zm4 0h-2V7h2v10zm4 0h-2v-4h2v4z\"/>\n",
              "    </g>\n",
              "</svg>\n",
              "  </button>\n",
              "\n",
              "<style>\n",
              "  .colab-df-quickchart {\n",
              "      --bg-color: #E8F0FE;\n",
              "      --fill-color: #1967D2;\n",
              "      --hover-bg-color: #E2EBFA;\n",
              "      --hover-fill-color: #174EA6;\n",
              "      --disabled-fill-color: #AAA;\n",
              "      --disabled-bg-color: #DDD;\n",
              "  }\n",
              "\n",
              "  [theme=dark] .colab-df-quickchart {\n",
              "      --bg-color: #3B4455;\n",
              "      --fill-color: #D2E3FC;\n",
              "      --hover-bg-color: #434B5C;\n",
              "      --hover-fill-color: #FFFFFF;\n",
              "      --disabled-bg-color: #3B4455;\n",
              "      --disabled-fill-color: #666;\n",
              "  }\n",
              "\n",
              "  .colab-df-quickchart {\n",
              "    background-color: var(--bg-color);\n",
              "    border: none;\n",
              "    border-radius: 50%;\n",
              "    cursor: pointer;\n",
              "    display: none;\n",
              "    fill: var(--fill-color);\n",
              "    height: 32px;\n",
              "    padding: 0;\n",
              "    width: 32px;\n",
              "  }\n",
              "\n",
              "  .colab-df-quickchart:hover {\n",
              "    background-color: var(--hover-bg-color);\n",
              "    box-shadow: 0 1px 2px rgba(60, 64, 67, 0.3), 0 1px 3px 1px rgba(60, 64, 67, 0.15);\n",
              "    fill: var(--button-hover-fill-color);\n",
              "  }\n",
              "\n",
              "  .colab-df-quickchart-complete:disabled,\n",
              "  .colab-df-quickchart-complete:disabled:hover {\n",
              "    background-color: var(--disabled-bg-color);\n",
              "    fill: var(--disabled-fill-color);\n",
              "    box-shadow: none;\n",
              "  }\n",
              "\n",
              "  .colab-df-spinner {\n",
              "    border: 2px solid var(--fill-color);\n",
              "    border-color: transparent;\n",
              "    border-bottom-color: var(--fill-color);\n",
              "    animation:\n",
              "      spin 1s steps(1) infinite;\n",
              "  }\n",
              "\n",
              "  @keyframes spin {\n",
              "    0% {\n",
              "      border-color: transparent;\n",
              "      border-bottom-color: var(--fill-color);\n",
              "      border-left-color: var(--fill-color);\n",
              "    }\n",
              "    20% {\n",
              "      border-color: transparent;\n",
              "      border-left-color: var(--fill-color);\n",
              "      border-top-color: var(--fill-color);\n",
              "    }\n",
              "    30% {\n",
              "      border-color: transparent;\n",
              "      border-left-color: var(--fill-color);\n",
              "      border-top-color: var(--fill-color);\n",
              "      border-right-color: var(--fill-color);\n",
              "    }\n",
              "    40% {\n",
              "      border-color: transparent;\n",
              "      border-right-color: var(--fill-color);\n",
              "      border-top-color: var(--fill-color);\n",
              "    }\n",
              "    60% {\n",
              "      border-color: transparent;\n",
              "      border-right-color: var(--fill-color);\n",
              "    }\n",
              "    80% {\n",
              "      border-color: transparent;\n",
              "      border-right-color: var(--fill-color);\n",
              "      border-bottom-color: var(--fill-color);\n",
              "    }\n",
              "    90% {\n",
              "      border-color: transparent;\n",
              "      border-bottom-color: var(--fill-color);\n",
              "    }\n",
              "  }\n",
              "</style>\n",
              "\n",
              "  <script>\n",
              "    async function quickchart(key) {\n",
              "      const quickchartButtonEl =\n",
              "        document.querySelector('#' + key + ' button');\n",
              "      quickchartButtonEl.disabled = true;  // To prevent multiple clicks.\n",
              "      quickchartButtonEl.classList.add('colab-df-spinner');\n",
              "      try {\n",
              "        const charts = await google.colab.kernel.invokeFunction(\n",
              "            'suggestCharts', [key], {});\n",
              "      } catch (error) {\n",
              "        console.error('Error during call to suggestCharts:', error);\n",
              "      }\n",
              "      quickchartButtonEl.classList.remove('colab-df-spinner');\n",
              "      quickchartButtonEl.classList.add('colab-df-quickchart-complete');\n",
              "    }\n",
              "    (() => {\n",
              "      let quickchartButtonEl =\n",
              "        document.querySelector('#df-cf024cc6-8c4f-4dd2-b121-993e32321582 button');\n",
              "      quickchartButtonEl.style.display =\n",
              "        google.colab.kernel.accessAllowed ? 'block' : 'none';\n",
              "    })();\n",
              "  </script>\n",
              "</div>\n",
              "    </div>\n",
              "  </div>\n"
            ]
          },
          "metadata": {},
          "execution_count": 74
        }
      ]
    },
    {
      "cell_type": "code",
      "source": [
        "en_test_df.to_csv('./data/public_test_with_context_en.csv', index=False)"
      ],
      "metadata": {
        "id": "bKHNRr8oPsFX"
      },
      "execution_count": null,
      "outputs": []
    }
  ]
}